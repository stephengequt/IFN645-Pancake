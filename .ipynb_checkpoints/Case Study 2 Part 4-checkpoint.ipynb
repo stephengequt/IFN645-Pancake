{
 "cells": [
  {
   "cell_type": "code",
   "execution_count": 1,
   "metadata": {},
   "outputs": [
    {
     "name": "stdout",
     "output_type": "stream",
     "text": [
      "<class 'pandas.core.frame.DataFrame'>\n",
      "RangeIndex: 5866 entries, 0 to 5865\n",
      "Data columns (total 6 columns):\n",
      "ip           5866 non-null object\n",
      "date_time    5866 non-null object\n",
      "request      5866 non-null object\n",
      "step         5866 non-null int64\n",
      "session      5866 non-null int64\n",
      "user_id      5866 non-null int64\n",
      "dtypes: int64(3), object(3)\n",
      "memory usage: 275.0+ KB\n"
     ]
    }
   ],
   "source": [
    "import pandas as pd\n",
    "import numpy as np\n",
    "\n",
    "df = pd.read_csv('Stephen/Case Study 2/datasets/web_log_data.csv', na_filter=False)\n",
    "\n",
    "df.info()"
   ]
  },
  {
   "cell_type": "code",
   "execution_count": 2,
   "metadata": {},
   "outputs": [
    {
     "name": "stdout",
     "output_type": "stream",
     "text": [
      "/                                                                821\n",
      "/favicon.ico                                                     554\n",
      "/robots.txt                                                      395\n",
      "/eaglefarm/javascript/menu.js                                    370\n",
      "/eaglefarm/pdf/Web_Price_List.pdf                                296\n",
      "/eaglefarm/                                                      286\n",
      "/services.html                                                   244\n",
      "/eaglefarm/pricelist/                                            189\n",
      "/eaglefarm/pricelist                                             187\n",
      "/more.html                                                       145\n",
      "/direct.html                                                     107\n",
      "/eaglefarm/specials/                                             103\n",
      "/eaglefarm/contact                                                95\n",
      "/eaglefarm/contact/                                               93\n",
      "/eaglefarm                                                        92\n",
      "/richlands/                                                       85\n",
      "/richlands                                                        84\n",
      "/eaglefarm/default.htm                                            81\n",
      "/index.html                                                       79\n",
      "/whoare.html                                                      76\n",
      "/richlands/javascript/menu.js                                     74\n",
      "/eaglefarm/specials                                               71\n",
      "/richlands/contact/                                               66\n",
      "/guarantee.html                                                   64\n",
      "/richlands/contact                                                60\n",
      "/acacia.html                                                      46\n",
      "/vicpoint.html                                                    43\n",
      "/springwood.html                                                  42\n",
      "/eaglefarm/fileupload                                             42\n",
      "/eaglefarm/fileupload/                                            42\n",
      "                                                                ... \n",
      "/carindale.html                                                    7\n",
      "/sunnybank.html                                                    6\n",
      "/qcc/qccindex.html                                                 6\n",
      "/qcc/Map.html                                                      6\n",
      "/code/ultra/photocopy.htm                                          5\n",
      "/richlands/enquiry/                                                5\n",
      "/richlands/enquiry                                                 5\n",
      "/purely.html                                                       4\n",
      "/global                                                            3\n",
      "/code/Richlands/                                                   3\n",
      "/victoriapoint                                                     2\n",
      "/code/Richlands                                                    2\n",
      "/MSOffice/cltreq.asp?UL=1&ACT=4&BUILD=5606&STRMVER=4&CAPREQ=0      1\n",
      "/_vti_inf.html                                                     1\n",
      "/MSOffice/cltreq.asp?UL=1&ACT=4&BUILD=2614&STRMVER=4&CAPREQ=0      1\n",
      "/code/                                                             1\n",
      "/_vti_bin/owssvr.dll?UL=1&ACT=4&BUILD=5606&STRMVER=4&CAPREQ=0      1\n",
      "/code/ultra/laminating.htm                                         1\n",
      "/_vti_bin/shtml.exe/_vti_rpc                                       1\n",
      "/code/ultra/offset.htm                                             1\n",
      "/code/ultra/stationery.htm                                         1\n",
      "/code/ultra/poster.htm                                             1\n",
      "/code/Ultra/images                                                 1\n",
      "/code/Ultra/index.htm                                              1\n",
      "/_vti_bin/owssvr.dll?UL=1&ACT=4&BUILD=2614&STRMVER=4&CAPREQ=0      1\n",
      "/richlands/enquiry/thankyou.htm                                    1\n",
      "/code/Ultra/images/                                                1\n",
      "/eaglefarm/disclaimer/default.asp                                  1\n",
      "/eaglefarm/privacy/default.asp                                     1\n",
      "/eaglefarm/pdf/                                                    1\n",
      "Name: request, Length: 114, dtype: int64\n"
     ]
    }
   ],
   "source": [
    "print(df['request'].value_counts())"
   ]
  },
  {
   "cell_type": "code",
   "execution_count": 4,
   "metadata": {},
   "outputs": [
    {
     "name": "stdout",
     "output_type": "stream",
     "text": [
      "<class 'pandas.core.frame.DataFrame'>\n",
      "RangeIndex: 5866 entries, 0 to 5865\n",
      "Data columns (total 10 columns):\n",
      "ip             5866 non-null object\n",
      "date_time      5866 non-null datetime64[ns]\n",
      "request        5866 non-null object\n",
      "step           5866 non-null int64\n",
      "session        5866 non-null int64\n",
      "user_id        5866 non-null int64\n",
      "Day            5866 non-null int64\n",
      "Month          5866 non-null int64\n",
      "Hour           5866 non-null int64\n",
      "Day_of_week    5866 non-null int64\n",
      "dtypes: datetime64[ns](1), int64(7), object(2)\n",
      "memory usage: 458.4+ KB\n"
     ]
    }
   ],
   "source": [
    "df['date_time'] = pd.to_datetime(df['date_time'], format=\"%d/%b/%Y:%H:%M:%S\")  # set date time to pandas datatime obj\n",
    "\n",
    "df['Day'] = df['date_time'].dt.day\n",
    "df['Month'] = df['date_time'].dt.month\n",
    "df['Hour'] = df['date_time'].dt.hour\n",
    "df['Day_of_week'] = df['date_time'].dt.dayofweek\n",
    "df.info()\n"
   ]
  },
  {
   "cell_type": "code",
   "execution_count": 6,
   "metadata": {},
   "outputs": [
    {
     "name": "stdout",
     "output_type": "stream",
     "text": [
      "                        ip           date_time          request  step  \\\n",
      "0     c210-49-32-6.rochd2. 2005-04-18 21:25:07                /     1   \n",
      "3408  c210-49-32-6.rochd2. 2005-04-18 21:25:08     /favicon.ico     2   \n",
      "3976  c210-49-32-6.rochd2. 2005-04-18 21:25:55  /guarantee.html     5   \n",
      "4119  c210-49-32-6.rochd2. 2005-04-18 21:25:39       /more.html     4   \n",
      "5409  c210-49-32-6.rochd2. 2005-04-18 21:25:16   /services.html     3   \n",
      "\n",
      "      session  user_id  Day  Month  Hour  Day_of_week  \n",
      "0           3        3   18      4    21            0  \n",
      "3408        3        3   18      4    21            0  \n",
      "3976        3        3   18      4    21            0  \n",
      "4119        3        3   18      4    21            0  \n",
      "5409        3        3   18      4    21            0  \n"
     ]
    }
   ],
   "source": [
    "user1 = df[df['user_id'] == 3]\n",
    "print(user1)"
   ]
  },
  {
   "cell_type": "code",
   "execution_count": 7,
   "metadata": {},
   "outputs": [
    {
     "name": "stdout",
     "output_type": "stream",
     "text": [
      "user_id\n",
      "1                                        [/robots.txt]\n",
      "2                        [/code/Global/code/menu.html]\n",
      "3    [/, /favicon.ico, /guarantee.html, /more.html,...\n",
      "4                                        [/robots.txt]\n",
      "5                           [/code/Ultra/services.htm]\n",
      "Name: request, dtype: object\n"
     ]
    }
   ],
   "source": [
    "requestsByUser = df.groupby(['user_id'])['request'].apply(list)\n",
    "\n",
    "print(requestsByUser.head(5))"
   ]
  },
  {
   "cell_type": "code",
   "execution_count": 10,
   "metadata": {},
   "outputs": [
    {
     "name": "stdout",
     "output_type": "stream",
     "text": [
      "                       Left_side                     Right_side   Support  \\\n",
      "0                                                             /  0.373904   \n",
      "1                                                   /eaglefarm/  0.130480   \n",
      "2                                 /eaglefarm/javascript/menu.js  0.143373   \n",
      "3                                                  /favicon.ico  0.109335   \n",
      "4                                                   /robots.txt  0.202166   \n",
      "5                                                /services.html  0.120165   \n",
      "6                              /                 /services.html  0.100567   \n",
      "7                 /services.html                              /  0.100567   \n",
      "8                    /eaglefarm/  /eaglefarm/javascript/menu.js  0.112429   \n",
      "9  /eaglefarm/javascript/menu.js                    /eaglefarm/  0.112429   \n",
      "\n",
      "   Confidence      Lift  \n",
      "0    0.373904  1.000000  \n",
      "1    0.130480  1.000000  \n",
      "2    0.143373  1.000000  \n",
      "3    0.109335  1.000000  \n",
      "4    0.202166  1.000000  \n",
      "5    0.120165  1.000000  \n",
      "6    0.268966  2.238301  \n",
      "7    0.836910  2.238301  \n",
      "8    0.861660  6.009924  \n",
      "9    0.784173  6.009924  \n"
     ]
    }
   ],
   "source": [
    "from apyori import apriori\n",
    "\n",
    "# type cast the transactions from pandas into normal list format and run apriori\n",
    "requestsByUser_list = list(requestsByUser)\n",
    "results = list(apriori(requestsByUser_list, min_support=0.1))\n",
    "\n",
    "\n",
    "def convert_apriori_results_to_pandas_df(results):\n",
    "    rules = []\n",
    "\n",
    "    for rule_set in results:\n",
    "        for rule in rule_set.ordered_statistics:\n",
    "            # items_base = left side of rules, items_add = right side\n",
    "            # support, confidence and lift for respective rules\n",
    "            rules.append([','.join(rule.items_base), ','.join(rule.items_add),\n",
    "                          rule_set.support, rule.confidence, rule.lift])\n",
    "\n",
    "            # typecast it to pandas df\n",
    "    return pd.DataFrame(rules, columns=['Left_side', 'Right_side', 'Support', 'Confidence', 'Lift'])\n",
    "\n",
    "\n",
    "result_df = convert_apriori_results_to_pandas_df(results)\n",
    "print(result_df.head(20))"
   ]
  },
  {
   "cell_type": "code",
   "execution_count": 11,
   "metadata": {},
   "outputs": [
    {
     "name": "stdout",
     "output_type": "stream",
     "text": [
      "                       Left_side                     Right_side   Support  \\\n",
      "8                    /eaglefarm/  /eaglefarm/javascript/menu.js  0.112429   \n",
      "7                 /services.html                              /  0.100567   \n",
      "9  /eaglefarm/javascript/menu.js                    /eaglefarm/  0.112429   \n",
      "0                                                             /  0.373904   \n",
      "6                              /                 /services.html  0.100567   \n",
      "4                                                   /robots.txt  0.202166   \n",
      "2                                 /eaglefarm/javascript/menu.js  0.143373   \n",
      "1                                                   /eaglefarm/  0.130480   \n",
      "5                                                /services.html  0.120165   \n",
      "3                                                  /favicon.ico  0.109335   \n",
      "\n",
      "   Confidence      Lift  \n",
      "8    0.861660  6.009924  \n",
      "7    0.836910  2.238301  \n",
      "9    0.784173  6.009924  \n",
      "0    0.373904  1.000000  \n",
      "6    0.268966  2.238301  \n",
      "4    0.202166  1.000000  \n",
      "2    0.143373  1.000000  \n",
      "1    0.130480  1.000000  \n",
      "5    0.120165  1.000000  \n",
      "3    0.109335  1.000000  \n"
     ]
    }
   ],
   "source": [
    "# sort all acquired rules descending by lift\n",
    "\n",
    "result_df = result_df.sort_values(by='Confidence', ascending=False)\n",
    "print(result_df.head(10))"
   ]
  },
  {
   "cell_type": "code",
   "execution_count": null,
   "metadata": {},
   "outputs": [],
   "source": []
  }
 ],
 "metadata": {
  "kernelspec": {
   "display_name": "Python 3",
   "language": "python",
   "name": "python3"
  },
  "language_info": {
   "codemirror_mode": {
    "name": "ipython",
    "version": 3
   },
   "file_extension": ".py",
   "mimetype": "text/x-python",
   "name": "python",
   "nbconvert_exporter": "python",
   "pygments_lexer": "ipython3",
   "version": "3.6.4"
  }
 },
 "nbformat": 4,
 "nbformat_minor": 2
}
