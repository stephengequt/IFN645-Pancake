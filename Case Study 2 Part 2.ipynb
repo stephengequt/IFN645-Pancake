{
 "cells": [
  {
   "cell_type": "markdown",
   "metadata": {},
   "source": [
    "# Part 2: Descriptive Data Mining - Association"
   ]
  },
  {
   "cell_type": "markdown",
   "metadata": {},
   "source": [
    "## Task4. Association Mining"
   ]
  },
  {
   "cell_type": "markdown",
   "metadata": {},
   "source": [
    "Load the data"
   ]
  },
  {
   "cell_type": "code",
   "execution_count": 22,
   "metadata": {},
   "outputs": [
    {
     "name": "stdout",
     "output_type": "stream",
     "text": [
      "<class 'pandas.core.frame.DataFrame'>\n",
      "RangeIndex: 459258 entries, 0 to 459257\n",
      "Data columns (total 5 columns):\n",
      "Location           459258 non-null int64\n",
      "Transaction_Id     459258 non-null int64\n",
      "Transactin_Date    459258 non-null object\n",
      "Product_Name       459258 non-null object\n",
      "Quantity           459258 non-null int64\n",
      "dtypes: int64(3), object(2)\n",
      "memory usage: 17.5+ MB\n"
     ]
    },
    {
     "data": {
      "text/html": [
       "<div>\n",
       "<style scoped>\n",
       "    .dataframe tbody tr th:only-of-type {\n",
       "        vertical-align: middle;\n",
       "    }\n",
       "\n",
       "    .dataframe tbody tr th {\n",
       "        vertical-align: top;\n",
       "    }\n",
       "\n",
       "    .dataframe thead th {\n",
       "        text-align: right;\n",
       "    }\n",
       "</style>\n",
       "<table border=\"1\" class=\"dataframe\">\n",
       "  <thead>\n",
       "    <tr style=\"text-align: right;\">\n",
       "      <th></th>\n",
       "      <th>Transaction_Id</th>\n",
       "      <th>Product_Name</th>\n",
       "    </tr>\n",
       "  </thead>\n",
       "  <tbody>\n",
       "    <tr>\n",
       "      <th>0</th>\n",
       "      <td>12359</td>\n",
       "      <td>Candy Bar</td>\n",
       "    </tr>\n",
       "    <tr>\n",
       "      <th>1</th>\n",
       "      <td>12362</td>\n",
       "      <td>Pain Reliever</td>\n",
       "    </tr>\n",
       "    <tr>\n",
       "      <th>3</th>\n",
       "      <td>12365</td>\n",
       "      <td>Toothpaste</td>\n",
       "    </tr>\n",
       "    <tr>\n",
       "      <th>4</th>\n",
       "      <td>12371</td>\n",
       "      <td>Bow</td>\n",
       "    </tr>\n",
       "    <tr>\n",
       "      <th>5</th>\n",
       "      <td>12380</td>\n",
       "      <td>Greeting Cards</td>\n",
       "    </tr>\n",
       "  </tbody>\n",
       "</table>\n",
       "</div>"
      ],
      "text/plain": [
       "   Transaction_Id    Product_Name\n",
       "0           12359       Candy Bar\n",
       "1           12362   Pain Reliever\n",
       "3           12365      Toothpaste\n",
       "4           12371             Bow\n",
       "5           12380  Greeting Cards"
      ]
     },
     "execution_count": 22,
     "metadata": {},
     "output_type": "execute_result"
    }
   ],
   "source": [
    "import pandas as pd\n",
    "import numpy as np\n",
    "\n",
    "df = pd.read_csv('datasets/pos_transactions.csv')\n",
    "df.info()\n",
    "\n",
    "\n",
    "#Remove duplicates\n",
    "df2 = df[['Transaction_Id','Product_Name']]\n",
    "df2.head(5)\n",
    "df = df2.drop_duplicates()\n",
    "df.head(5)"
   ]
  },
  {
   "cell_type": "markdown",
   "metadata": {},
   "source": [
    "Group `Transaction_Id` ,and then generate a list of all `Product_Name` purchased as we are looking to generate association rules from products purchased by each transaction"
   ]
  },
  {
   "cell_type": "code",
   "execution_count": 23,
   "metadata": {},
   "outputs": [
    {
     "name": "stdout",
     "output_type": "stream",
     "text": [
      "Transaction_Id\n",
      "12359                       [Candy Bar]\n",
      "12362                   [Pain Reliever]\n",
      "12365                      [Toothpaste]\n",
      "12371                             [Bow]\n",
      "12380                  [Greeting Cards]\n",
      "12383                   [Pain Reliever]\n",
      "12386                   [Pain Reliever]\n",
      "12392               [Shampoo, Magazine]\n",
      "12401    [Candy Bar, Pencils, Magazine]\n",
      "12404                       [Candy Bar]\n",
      "Name: Product_Name, dtype: object\n"
     ]
    }
   ],
   "source": [
    "# group by transaction_id, then list all products\n",
    "transactions = df.groupby(['Transaction_Id'])['Product_Name'].apply(list)\n",
    "\n",
    "print(transactions.head(10))"
   ]
  },
  {
   "cell_type": "markdown",
   "metadata": {},
   "source": [
    "Firstly, we try 0.05 as the min_support for running `apyori` model"
   ]
  },
  {
   "cell_type": "code",
   "execution_count": 24,
   "metadata": {},
   "outputs": [
    {
     "name": "stdout",
     "output_type": "stream",
     "text": [
      "[RelationRecord(items=frozenset({'Bow'}), support=0.054645, ordered_statistics=[OrderedStatistic(items_base=frozenset(), items_add=frozenset({'Bow'}), confidence=0.054645, lift=1.0)]), RelationRecord(items=frozenset({'Candy Bar'}), support=0.171005, ordered_statistics=[OrderedStatistic(items_base=frozenset(), items_add=frozenset({'Candy Bar'}), confidence=0.171005, lift=1.0)]), RelationRecord(items=frozenset({'Greeting Cards'}), support=0.146885, ordered_statistics=[OrderedStatistic(items_base=frozenset(), items_add=frozenset({'Greeting Cards'}), confidence=0.146885, lift=1.0)]), RelationRecord(items=frozenset({'Magazine'}), support=0.241305, ordered_statistics=[OrderedStatistic(items_base=frozenset(), items_add=frozenset({'Magazine'}), confidence=0.241305, lift=1.0)]), RelationRecord(items=frozenset({'Pain Reliever'}), support=0.0267, ordered_statistics=[OrderedStatistic(items_base=frozenset(), items_add=frozenset({'Pain Reliever'}), confidence=0.0267, lift=1.0)])]\n"
     ]
    }
   ],
   "source": [
    "from apyori import apriori\n",
    "\n",
    "# type cast the transactions from pandas into normal list format and run apriori\n",
    "transaction_list = list(transactions)\n",
    "results = list(apriori(transaction_list, min_support=0.01))\n",
    "\n",
    "# print first 5 rules\n",
    "print(results[:5])"
   ]
  },
  {
   "cell_type": "markdown",
   "metadata": {},
   "source": [
    "Format the output"
   ]
  },
  {
   "cell_type": "code",
   "execution_count": 25,
   "metadata": {},
   "outputs": [
    {
     "name": "stdout",
     "output_type": "stream",
     "text": [
      "         Left_side      Right_side   Support  Confidence      Lift\n",
      "0                              Bow  0.054645    0.054645  1.000000\n",
      "1                        Candy Bar  0.171005    0.171005  1.000000\n",
      "2                   Greeting Cards  0.146885    0.146885  1.000000\n",
      "3                         Magazine  0.241305    0.241305  1.000000\n",
      "4                    Pain Reliever  0.026700    0.026700  1.000000\n",
      "5                          Pencils  0.134925    0.134925  1.000000\n",
      "6                             Pens  0.143575    0.143575  1.000000\n",
      "7                          Perfume  0.089960    0.089960  1.000000\n",
      "8                   Photo Processi  0.058480    0.058480  1.000000\n",
      "9                   Prescription M  0.014505    0.014505  1.000000\n",
      "10                         Shampoo  0.033800    0.033800  1.000000\n",
      "11                            Soap  0.043025    0.043025  1.000000\n",
      "12                      Toothbrush  0.067350    0.067350  1.000000\n",
      "13                      Toothpaste  0.160425    0.160425  1.000000\n",
      "14                  Wrapping Paper  0.050990    0.050990  1.000000\n",
      "15             Bow      Toothbrush  0.011340    0.207521  3.081236\n",
      "16      Toothbrush             Bow  0.011340    0.168374  3.081236\n",
      "17       Candy Bar  Greeting Cards  0.043660    0.255314  1.738191\n",
      "18  Greeting Cards       Candy Bar  0.043660    0.297239  1.738191\n",
      "19       Candy Bar        Magazine  0.040535    0.237040  0.982325\n"
     ]
    }
   ],
   "source": [
    "def convert_apriori_results_to_pandas_df(results):\n",
    "    rules = []\n",
    "\n",
    "    for rule_set in results:\n",
    "        for rule in rule_set.ordered_statistics:\n",
    "            # items_base = left side of rules, items_add = right side\n",
    "            # support, confidence and lift for respective rules\n",
    "            rules.append([','.join(rule.items_base), ','.join(rule.items_add),\n",
    "                          rule_set.support, rule.confidence, rule.lift])\n",
    "\n",
    "            # typecast it to pandas df\n",
    "    return pd.DataFrame(rules, columns=['Left_side', 'Right_side', 'Support', 'Confidence', 'Lift'])\n",
    "\n",
    "\n",
    "result_df = convert_apriori_results_to_pandas_df(results)\n",
    "\n",
    "print(result_df.head(20))"
   ]
  },
  {
   "cell_type": "code",
   "execution_count": 26,
   "metadata": {},
   "outputs": [
    {
     "name": "stdout",
     "output_type": "stream",
     "text": [
      "                    Left_side      Right_side   Support  Confidence      Lift\n",
      "49                    Perfume      Toothbrush  0.021820    0.242552  3.601370\n",
      "50                 Toothbrush         Perfume  0.021820    0.323979  3.601370\n",
      "16                 Toothbrush             Bow  0.011340    0.168374  3.081236\n",
      "15                        Bow      Toothbrush  0.011340    0.207521  3.081236\n",
      "52         Candy Bar,Magazine  Greeting Cards  0.016665    0.411126  2.798966\n",
      "65         Pencils,Toothpaste       Candy Bar  0.011390    0.463762  2.711980\n",
      "53    Magazine,Greeting Cards       Candy Bar  0.016665    0.458649  2.682078\n",
      "71        Toothpaste,Magazine  Greeting Cards  0.011945    0.377230  2.568202\n",
      "62        Toothpaste,Magazine       Candy Bar  0.013720    0.433286  2.533762\n",
      "56  Toothpaste,Greeting Cards       Candy Bar  0.013175    0.410692  2.401637\n"
     ]
    }
   ],
   "source": [
    "# sort all acquired rules descending by lift\n",
    "result_df = result_df.sort_values(by='Lift', ascending=False)\n",
    "print(result_df.head(10))"
   ]
  },
  {
   "cell_type": "code",
   "execution_count": 27,
   "metadata": {},
   "outputs": [
    {
     "name": "stdout",
     "output_type": "stream",
     "text": [
      "                    Left_side      Right_side   Support  Confidence      Lift\n",
      "65         Pencils,Toothpaste       Candy Bar  0.011390    0.463762  2.711980\n",
      "53    Magazine,Greeting Cards       Candy Bar  0.016665    0.458649  2.682078\n",
      "62        Toothpaste,Magazine       Candy Bar  0.013720    0.433286  2.533762\n",
      "52         Candy Bar,Magazine  Greeting Cards  0.016665    0.411126  2.798966\n",
      "56  Toothpaste,Greeting Cards       Candy Bar  0.013175    0.410692  2.401637\n",
      "51   Candy Bar,Greeting Cards        Magazine  0.016665    0.381699  1.581813\n",
      "59           Pencils,Magazine       Candy Bar  0.012005    0.379545  2.219495\n",
      "71        Toothpaste,Magazine  Greeting Cards  0.011945    0.377230  2.568202\n",
      "67     Pencils,Greeting Cards        Magazine  0.010955    0.374658  1.552633\n",
      "70  Toothpaste,Greeting Cards        Magazine  0.011945    0.372350  1.543069\n"
     ]
    }
   ],
   "source": [
    "# sort all acquired rules descending by Confidence\n",
    "result_df = result_df.sort_values(by='Confidence', ascending=False)\n",
    "print(result_df.head(10))"
   ]
  },
  {
   "cell_type": "code",
   "execution_count": 28,
   "metadata": {},
   "outputs": [
    {
     "data": {
      "image/png": "[encoded data removed]",
      "text/plain": [
       "<matplotlib.figure.Figure at 0x1138d5ba8>"
      ]
     },
     "metadata": {},
     "output_type": "display_data"
    }
   ],
   "source": [
    "import matplotlib.pyplot as plt\n",
    "\n",
    "\n",
    "support = result_df.as_matrix(columns=['Support'])\n",
    "confidence = result_df.as_matrix(columns=['Confidence'])\n",
    "\n",
    "plt.scatter(support, confidence, alpha=0.5, marker=\"*\")\n",
    "plt.xlabel('support')\n",
    "plt.ylabel('confidence')\n",
    "plt.show()"
   ]
  },
  {
   "cell_type": "code",
   "execution_count": 29,
   "metadata": {},
   "outputs": [
    {
     "name": "stdout",
     "output_type": "stream",
     "text": [
      "   Left_side  Right_side   Support  Confidence      Lift\n",
      "36      Pens    Magazine  0.021150    0.147310  0.610471\n",
      "24      Pens   Candy Bar  0.012265    0.085426  0.499551\n",
      "47      Pens  Toothpaste  0.010315    0.071844  0.447835\n"
     ]
    }
   ],
   "source": [
    "pens_df = result_df[result_df['Left_side'] == \"Pens\"]\n",
    "pens_df = pens_df.sort_values(by='Lift', ascending=False)\n",
    "print(pens_df)\n"
   ]
  },
  {
   "cell_type": "code",
   "execution_count": 20,
   "metadata": {},
   "outputs": [
    {
     "name": "stdout",
     "output_type": "stream",
     "text": [
      "<class 'pandas.core.frame.DataFrame'>\n",
      "Int64Index: 3 entries, 36 to 47\n",
      "Data columns (total 5 columns):\n",
      "Left_side     3 non-null object\n",
      "Right_side    3 non-null object\n",
      "Support       3 non-null float64\n",
      "Confidence    3 non-null float64\n",
      "Lift          3 non-null float64\n",
      "dtypes: float64(3), object(2)\n",
      "memory usage: 144.0+ bytes\n",
      "None\n"
     ]
    }
   ],
   "source": [
    "print(pens_df.info())"
   ]
  },
  {
   "cell_type": "code",
   "execution_count": null,
   "metadata": {},
   "outputs": [],
   "source": []
  }
 ],
 "metadata": {
  "kernelspec": {
   "display_name": "Python 3",
   "language": "python",
   "name": "python3"
  },
  "language_info": {
   "codemirror_mode": {
    "name": "ipython",
    "version": 3
   },
   "file_extension": ".py",
   "mimetype": "text/x-python",
   "name": "python",
   "nbconvert_exporter": "python",
   "pygments_lexer": "ipython3",
   "version": "3.6.4"
  }
 },
 "nbformat": 4,
 "nbformat_minor": 2
}
