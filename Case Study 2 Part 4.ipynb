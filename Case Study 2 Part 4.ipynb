{
 "cells": [
  {
   "cell_type": "markdown",
   "metadata": {},
   "source": [
    "# Part 4: Web Mining the Log Data for a Website"
   ]
  },
  {
   "cell_type": "markdown",
   "metadata": {},
   "source": [
    "## 4.1 Data Preprocessing\n",
    "### 4.1.1. Load data"
   ]
  },
  {
   "cell_type": "code",
   "execution_count": 32,
   "metadata": {},
   "outputs": [
    {
     "name": "stdout",
     "output_type": "stream",
     "text": [
      "<class 'pandas.core.frame.DataFrame'>\n",
      "RangeIndex: 5866 entries, 0 to 5865\n",
      "Data columns (total 6 columns):\n",
      "ip           5866 non-null object\n",
      "date_time    5866 non-null object\n",
      "request      5866 non-null object\n",
      "step         5866 non-null int64\n",
      "session      5866 non-null int64\n",
      "user_id      5866 non-null int64\n",
      "dtypes: int64(3), object(3)\n",
      "memory usage: 275.0+ KB\n"
     ]
    }
   ],
   "source": [
    "import pandas as pd\n",
    "import numpy as np\n",
    "import matplotlib.pyplot as plt\n",
    "\n",
    "df = pd.read_csv('Stephen/Case Study 2/datasets/web_log_data.csv', na_filter=False)\n",
    "df.info()"
   ]
  },
  {
   "cell_type": "markdown",
   "metadata": {},
   "source": [
    "From briefly viewing the data, we can see it contains following information\n",
    "\n",
    "`IP`: the address user access from\n",
    "\n",
    "`date_time`: the time that user made requests \n",
    "\n",
    "`request`: request URLs\n",
    "\n",
    "`step`: the order of users made different requests\n",
    "\n",
    "`session`: \n",
    "\n",
    "`user_id`:\n",
    "\n"
   ]
  },
  {
   "cell_type": "code",
   "execution_count": 25,
   "metadata": {},
   "outputs": [
    {
     "name": "stdout",
     "output_type": "stream",
     "text": [
      "<class 'pandas.core.frame.DataFrame'>\n",
      "RangeIndex: 5866 entries, 0 to 5865\n",
      "Data columns (total 5 columns):\n",
      "date_time    5866 non-null object\n",
      "request      5866 non-null object\n",
      "step         5866 non-null int64\n",
      "session      5866 non-null int64\n",
      "user_id      5866 non-null int64\n",
      "dtypes: int64(3), object(2)\n",
      "memory usage: 229.2+ KB\n"
     ]
    }
   ],
   "source": [
    "#df = df.drop(['ip'], axis=1)\n",
    "#df = df.drop(['session'], axis=1)\n",
    "#df.info()"
   ]
  },
  {
   "cell_type": "markdown",
   "metadata": {},
   "source": [
    "## 4.1.2. Inspect data type\n",
    "\n",
    "We convert `date_time` into DataFrame format "
   ]
  },
  {
   "cell_type": "code",
   "execution_count": 33,
   "metadata": {},
   "outputs": [
    {
     "name": "stdout",
     "output_type": "stream",
     "text": [
      "<class 'pandas.core.frame.DataFrame'>\n",
      "RangeIndex: 5866 entries, 0 to 5865\n",
      "Data columns (total 6 columns):\n",
      "ip           5866 non-null object\n",
      "date_time    5866 non-null datetime64[ns]\n",
      "request      5866 non-null object\n",
      "step         5866 non-null int64\n",
      "session      5866 non-null int64\n",
      "user_id      5866 non-null int64\n",
      "dtypes: datetime64[ns](1), int64(3), object(2)\n",
      "memory usage: 275.0+ KB\n"
     ]
    }
   ],
   "source": [
    "df['date_time'] = pd.to_datetime(df['date_time'], format=\"%d/%b/%Y:%H:%M:%S\")  \n",
    "\n",
    "df.info()"
   ]
  },
  {
   "cell_type": "markdown",
   "metadata": {},
   "source": [
    "## 4.1.3. Sort values"
   ]
  },
  {
   "cell_type": "code",
   "execution_count": 4,
   "metadata": {},
   "outputs": [
    {
     "data": {
      "text/html": [
       "<div>\n",
       "<style scoped>\n",
       "    .dataframe tbody tr th:only-of-type {\n",
       "        vertical-align: middle;\n",
       "    }\n",
       "\n",
       "    .dataframe tbody tr th {\n",
       "        vertical-align: top;\n",
       "    }\n",
       "\n",
       "    .dataframe thead th {\n",
       "        text-align: right;\n",
       "    }\n",
       "</style>\n",
       "<table border=\"1\" class=\"dataframe\">\n",
       "  <thead>\n",
       "    <tr style=\"text-align: right;\">\n",
       "      <th></th>\n",
       "      <th>ip</th>\n",
       "      <th>date_time</th>\n",
       "      <th>request</th>\n",
       "      <th>step</th>\n",
       "      <th>session</th>\n",
       "      <th>user_id</th>\n",
       "      <th>Day</th>\n",
       "      <th>Month</th>\n",
       "      <th>Hour</th>\n",
       "      <th>Day_of_week</th>\n",
       "    </tr>\n",
       "  </thead>\n",
       "  <tbody>\n",
       "    <tr>\n",
       "      <th>0</th>\n",
       "      <td>c210-49-32-6.rochd2.</td>\n",
       "      <td>2005-04-18 21:25:07</td>\n",
       "      <td>/</td>\n",
       "      <td>1</td>\n",
       "      <td>3</td>\n",
       "      <td>3</td>\n",
       "      <td>18</td>\n",
       "      <td>4</td>\n",
       "      <td>21</td>\n",
       "      <td>0</td>\n",
       "    </tr>\n",
       "    <tr>\n",
       "      <th>1</th>\n",
       "      <td>visp.inabox.telstra.</td>\n",
       "      <td>2005-04-19 08:24:28</td>\n",
       "      <td>/</td>\n",
       "      <td>1</td>\n",
       "      <td>12</td>\n",
       "      <td>12</td>\n",
       "      <td>19</td>\n",
       "      <td>4</td>\n",
       "      <td>8</td>\n",
       "      <td>1</td>\n",
       "    </tr>\n",
       "    <tr>\n",
       "      <th>2</th>\n",
       "      <td>dsl-61-95-54-84.requ</td>\n",
       "      <td>2005-04-19 08:33:01</td>\n",
       "      <td>/</td>\n",
       "      <td>1</td>\n",
       "      <td>13</td>\n",
       "      <td>13</td>\n",
       "      <td>19</td>\n",
       "      <td>4</td>\n",
       "      <td>8</td>\n",
       "      <td>1</td>\n",
       "    </tr>\n",
       "    <tr>\n",
       "      <th>3</th>\n",
       "      <td>d220-236-91-52.dsl.n</td>\n",
       "      <td>2005-04-19 09:16:06</td>\n",
       "      <td>/</td>\n",
       "      <td>1</td>\n",
       "      <td>15</td>\n",
       "      <td>15</td>\n",
       "      <td>19</td>\n",
       "      <td>4</td>\n",
       "      <td>9</td>\n",
       "      <td>1</td>\n",
       "    </tr>\n",
       "    <tr>\n",
       "      <th>4</th>\n",
       "      <td>allptrs.eq.edu.au</td>\n",
       "      <td>2005-04-19 09:47:54</td>\n",
       "      <td>/</td>\n",
       "      <td>1</td>\n",
       "      <td>22</td>\n",
       "      <td>22</td>\n",
       "      <td>19</td>\n",
       "      <td>4</td>\n",
       "      <td>9</td>\n",
       "      <td>1</td>\n",
       "    </tr>\n",
       "  </tbody>\n",
       "</table>\n",
       "</div>"
      ],
      "text/plain": [
       "                     ip           date_time request  step  session  user_id  \\\n",
       "0  c210-49-32-6.rochd2. 2005-04-18 21:25:07       /     1        3        3   \n",
       "1  visp.inabox.telstra. 2005-04-19 08:24:28       /     1       12       12   \n",
       "2  dsl-61-95-54-84.requ 2005-04-19 08:33:01       /     1       13       13   \n",
       "3  d220-236-91-52.dsl.n 2005-04-19 09:16:06       /     1       15       15   \n",
       "4     allptrs.eq.edu.au 2005-04-19 09:47:54       /     1       22       22   \n",
       "\n",
       "   Day  Month  Hour  Day_of_week  \n",
       "0   18      4    21            0  \n",
       "1   19      4     8            1  \n",
       "2   19      4     8            1  \n",
       "3   19      4     9            1  \n",
       "4   19      4     9            1  "
      ]
     },
     "execution_count": 4,
     "metadata": {},
     "output_type": "execute_result"
    }
   ],
   "source": [
    "df.head(5)"
   ]
  },
  {
   "cell_type": "code",
   "execution_count": 28,
   "metadata": {},
   "outputs": [
    {
     "data": {
      "text/html": [
       "<div>\n",
       "<style scoped>\n",
       "    .dataframe tbody tr th:only-of-type {\n",
       "        vertical-align: middle;\n",
       "    }\n",
       "\n",
       "    .dataframe tbody tr th {\n",
       "        vertical-align: top;\n",
       "    }\n",
       "\n",
       "    .dataframe thead th {\n",
       "        text-align: right;\n",
       "    }\n",
       "</style>\n",
       "<table border=\"1\" class=\"dataframe\">\n",
       "  <thead>\n",
       "    <tr style=\"text-align: right;\">\n",
       "      <th></th>\n",
       "      <th>ip</th>\n",
       "      <th>date_time</th>\n",
       "      <th>request</th>\n",
       "      <th>step</th>\n",
       "      <th>session</th>\n",
       "      <th>user_id</th>\n",
       "      <th>Day</th>\n",
       "      <th>Month</th>\n",
       "      <th>Hour</th>\n",
       "      <th>Day_of_week</th>\n",
       "    </tr>\n",
       "  </thead>\n",
       "  <tbody>\n",
       "    <tr>\n",
       "      <th>5014</th>\n",
       "      <td>j2439.inktomisearch.</td>\n",
       "      <td>2005-04-18 21:16:54</td>\n",
       "      <td>/robots.txt</td>\n",
       "      <td>1</td>\n",
       "      <td>1</td>\n",
       "      <td>1</td>\n",
       "      <td>18</td>\n",
       "      <td>4</td>\n",
       "      <td>21</td>\n",
       "      <td>0</td>\n",
       "    </tr>\n",
       "    <tr>\n",
       "      <th>967</th>\n",
       "      <td>lj2559.inktomisearch</td>\n",
       "      <td>2005-04-18 21:16:55</td>\n",
       "      <td>/code/Global/code/menu.html</td>\n",
       "      <td>1</td>\n",
       "      <td>2</td>\n",
       "      <td>2</td>\n",
       "      <td>18</td>\n",
       "      <td>4</td>\n",
       "      <td>21</td>\n",
       "      <td>0</td>\n",
       "    </tr>\n",
       "    <tr>\n",
       "      <th>0</th>\n",
       "      <td>c210-49-32-6.rochd2.</td>\n",
       "      <td>2005-04-18 21:25:07</td>\n",
       "      <td>/</td>\n",
       "      <td>1</td>\n",
       "      <td>3</td>\n",
       "      <td>3</td>\n",
       "      <td>18</td>\n",
       "      <td>4</td>\n",
       "      <td>21</td>\n",
       "      <td>0</td>\n",
       "    </tr>\n",
       "    <tr>\n",
       "      <th>3408</th>\n",
       "      <td>c210-49-32-6.rochd2.</td>\n",
       "      <td>2005-04-18 21:25:08</td>\n",
       "      <td>/favicon.ico</td>\n",
       "      <td>2</td>\n",
       "      <td>3</td>\n",
       "      <td>3</td>\n",
       "      <td>18</td>\n",
       "      <td>4</td>\n",
       "      <td>21</td>\n",
       "      <td>0</td>\n",
       "    </tr>\n",
       "    <tr>\n",
       "      <th>5409</th>\n",
       "      <td>c210-49-32-6.rochd2.</td>\n",
       "      <td>2005-04-18 21:25:16</td>\n",
       "      <td>/services.html</td>\n",
       "      <td>3</td>\n",
       "      <td>3</td>\n",
       "      <td>3</td>\n",
       "      <td>18</td>\n",
       "      <td>4</td>\n",
       "      <td>21</td>\n",
       "      <td>0</td>\n",
       "    </tr>\n",
       "  </tbody>\n",
       "</table>\n",
       "</div>"
      ],
      "text/plain": [
       "                        ip           date_time                      request  \\\n",
       "5014  j2439.inktomisearch. 2005-04-18 21:16:54                  /robots.txt   \n",
       "967   lj2559.inktomisearch 2005-04-18 21:16:55  /code/Global/code/menu.html   \n",
       "0     c210-49-32-6.rochd2. 2005-04-18 21:25:07                            /   \n",
       "3408  c210-49-32-6.rochd2. 2005-04-18 21:25:08                 /favicon.ico   \n",
       "5409  c210-49-32-6.rochd2. 2005-04-18 21:25:16               /services.html   \n",
       "\n",
       "      step  session  user_id  Day  Month  Hour  Day_of_week  \n",
       "5014     1        1        1   18      4    21            0  \n",
       "967      1        2        2   18      4    21            0  \n",
       "0        1        3        3   18      4    21            0  \n",
       "3408     2        3        3   18      4    21            0  \n",
       "5409     3        3        3   18      4    21            0  "
      ]
     },
     "execution_count": 28,
     "metadata": {},
     "output_type": "execute_result"
    }
   ],
   "source": [
    "df = df.sort_values(by = ['user_id', 'step'], ascending=True)\n",
    "\n",
    "df.head(5)"
   ]
  },
  {
   "cell_type": "markdown",
   "metadata": {},
   "source": [
    "We notice that many `request` value are only '/'. So we check `request` for more details:"
   ]
  },
  {
   "cell_type": "code",
   "execution_count": 34,
   "metadata": {},
   "outputs": [
    {
     "name": "stdout",
     "output_type": "stream",
     "text": [
      "/                                                                821\n",
      "/favicon.ico                                                     554\n",
      "/robots.txt                                                      395\n",
      "/eaglefarm/javascript/menu.js                                    370\n",
      "/eaglefarm/pdf/Web_Price_List.pdf                                296\n",
      "/eaglefarm/                                                      286\n",
      "/services.html                                                   244\n",
      "/eaglefarm/pricelist/                                            189\n",
      "/eaglefarm/pricelist                                             187\n",
      "/more.html                                                       145\n",
      "/direct.html                                                     107\n",
      "/eaglefarm/specials/                                             103\n",
      "/eaglefarm/contact                                                95\n",
      "/eaglefarm/contact/                                               93\n",
      "/eaglefarm                                                        92\n",
      "/richlands/                                                       85\n",
      "/richlands                                                        84\n",
      "/eaglefarm/default.htm                                            81\n",
      "/index.html                                                       79\n",
      "/whoare.html                                                      76\n",
      "/richlands/javascript/menu.js                                     74\n",
      "/eaglefarm/specials                                               71\n",
      "/richlands/contact/                                               66\n",
      "/guarantee.html                                                   64\n",
      "/richlands/contact                                                60\n",
      "/acacia.html                                                      46\n",
      "/vicpoint.html                                                    43\n",
      "/eaglefarm/fileupload/                                            42\n",
      "/springwood.html                                                  42\n",
      "/eaglefarm/fileupload                                             42\n",
      "                                                                ... \n",
      "/valley.html                                                       7\n",
      "/qcc/Map.html                                                      6\n",
      "/qcc/qccindex.html                                                 6\n",
      "/sunnybank.html                                                    6\n",
      "/code/ultra/photocopy.htm                                          5\n",
      "/richlands/enquiry                                                 5\n",
      "/richlands/enquiry/                                                5\n",
      "/purely.html                                                       4\n",
      "/global                                                            3\n",
      "/code/Richlands/                                                   3\n",
      "/code/Richlands                                                    2\n",
      "/victoriapoint                                                     2\n",
      "/code/                                                             1\n",
      "/_vti_bin/owssvr.dll?UL=1&ACT=4&BUILD=5606&STRMVER=4&CAPREQ=0      1\n",
      "/MSOffice/cltreq.asp?UL=1&ACT=4&BUILD=2614&STRMVER=4&CAPREQ=0      1\n",
      "/code/Ultra/images                                                 1\n",
      "/code/ultra/laminating.htm                                         1\n",
      "/_vti_inf.html                                                     1\n",
      "/code/ultra/offset.htm                                             1\n",
      "/eaglefarm/disclaimer/default.asp                                  1\n",
      "/code/Ultra/index.htm                                              1\n",
      "/code/ultra/stationery.htm                                         1\n",
      "/richlands/enquiry/thankyou.htm                                    1\n",
      "/eaglefarm/pdf/                                                    1\n",
      "/eaglefarm/privacy/default.asp                                     1\n",
      "/code/Ultra/images/                                                1\n",
      "/code/ultra/poster.htm                                             1\n",
      "/_vti_bin/owssvr.dll?UL=1&ACT=4&BUILD=2614&STRMVER=4&CAPREQ=0      1\n",
      "/MSOffice/cltreq.asp?UL=1&ACT=4&BUILD=5606&STRMVER=4&CAPREQ=0      1\n",
      "/_vti_bin/shtml.exe/_vti_rpc                                       1\n",
      "Name: request, Length: 114, dtype: int64\n"
     ]
    }
   ],
   "source": [
    "print(df['request'].value_counts())"
   ]
  },
  {
   "cell_type": "markdown",
   "metadata": {},
   "source": [
    "From `value_count` of `request`, we can see that '/' refers to homepage of the website ,and many requests are same except ending with backslash.\n",
    "\n",
    "So we replace '/' as `homepage`, and remove '/' at the end of equests."
   ]
  },
  {
   "cell_type": "code",
   "execution_count": 35,
   "metadata": {},
   "outputs": [
    {
     "name": "stdout",
     "output_type": "stream",
     "text": [
      "homepage                                                         821\n",
      "/favicon.ico                                                     554\n",
      "/robots.txt                                                      395\n",
      "/eaglefarm                                                       378\n",
      "/eaglefarm/pricelist                                             376\n",
      "/eaglefarm/javascript/menu.js                                    370\n",
      "/eaglefarm/pdf/Web_Price_List.pdf                                296\n",
      "/services.html                                                   244\n",
      "/eaglefarm/contact                                               188\n",
      "/eaglefarm/specials                                              174\n",
      "/richlands                                                       169\n",
      "/more.html                                                       145\n",
      "/richlands/contact                                               126\n",
      "/direct.html                                                     107\n",
      "/eaglefarm/fileupload                                             84\n",
      "/eaglefarm/default.htm                                            81\n",
      "/index.html                                                       79\n",
      "/whoare.html                                                      76\n",
      "/richlands/javascript/menu.js                                     74\n",
      "/richlands/services/printing                                      72\n",
      "/guarantee.html                                                   64\n",
      "/richlands/services                                               62\n",
      "/richlands/services/plans                                         59\n",
      "/eaglefarm/aboutus                                                55\n",
      "/acacia.html                                                      46\n",
      "/vicpoint.html                                                    43\n",
      "/springwood.html                                                  42\n",
      "/richlands/fileupload                                             42\n",
      "/cbd.html                                                         37\n",
      "/direct                                                           34\n",
      "                                                                ... \n",
      "/code/Global/code/isearch.html                                     8\n",
      "/code/Ultra/laminating.htm                                         8\n",
      "/valley.html                                                       7\n",
      "/virginia.html                                                     7\n",
      "/carindale.html                                                    7\n",
      "/qcc/qccindex.html                                                 6\n",
      "/qcc/Map.html                                                      6\n",
      "/sunnybank.html                                                    6\n",
      "/code/Richlands                                                    5\n",
      "/code/ultra/photocopy.htm                                          5\n",
      "/purely.html                                                       4\n",
      "/global                                                            3\n",
      "/victoriapoint                                                     2\n",
      "/code/Ultra/images                                                 2\n",
      "/code/ultra/laminating.htm                                         1\n",
      "/MSOffice/cltreq.asp?UL=1&ACT=4&BUILD=2614&STRMVER=4&CAPREQ=0      1\n",
      "/eaglefarm/disclaimer/default.asp                                  1\n",
      "/_vti_inf.html                                                     1\n",
      "/code/ultra/stationery.htm                                         1\n",
      "/_vti_bin/owssvr.dll?UL=1&ACT=4&BUILD=5606&STRMVER=4&CAPREQ=0      1\n",
      "/richlands/enquiry/thankyou.htm                                    1\n",
      "/code/Ultra/index.htm                                              1\n",
      "/_vti_bin/owssvr.dll?UL=1&ACT=4&BUILD=2614&STRMVER=4&CAPREQ=0      1\n",
      "/eaglefarm/privacy/default.asp                                     1\n",
      "/eaglefarm/pdf                                                     1\n",
      "/MSOffice/cltreq.asp?UL=1&ACT=4&BUILD=5606&STRMVER=4&CAPREQ=0      1\n",
      "/code/ultra/poster.htm                                             1\n",
      "/code/ultra/offset.htm                                             1\n",
      "/code                                                              1\n",
      "/_vti_bin/shtml.exe/_vti_rpc                                       1\n",
      "Name: request, Length: 96, dtype: int64\n"
     ]
    }
   ],
   "source": [
    "df['request'] = df['request'].str.rstrip('\\/')\n",
    "df.replace(r'^\\s*$', 'homepage', regex=True, inplace = True)\n",
    "\n",
    "print(df['request'].value_counts())"
   ]
  },
  {
   "cell_type": "code",
   "execution_count": 99,
   "metadata": {},
   "outputs": [
    {
     "name": "stdout",
     "output_type": "stream",
     "text": [
      "<class 'pandas.core.frame.DataFrame'>\n",
      "RangeIndex: 5866 entries, 0 to 5865\n",
      "Data columns (total 14 columns):\n",
      "ip             5866 non-null object\n",
      "date_time      5866 non-null datetime64[ns]\n",
      "request        5866 non-null object\n",
      "step           5866 non-null int64\n",
      "session        5866 non-null int64\n",
      "user_id        5866 non-null int64\n",
      "Day            5866 non-null int64\n",
      "Month          5866 non-null int64\n",
      "Hour           5866 non-null int64\n",
      "Day_of_week    5866 non-null int64\n",
      "day            5866 non-null int64\n",
      "month          5866 non-null int64\n",
      "hour           5866 non-null int64\n",
      "day_of_week    5866 non-null int64\n",
      "dtypes: datetime64[ns](1), int64(11), object(2)\n",
      "memory usage: 641.7+ KB\n"
     ]
    }
   ],
   "source": [
    "df['day'] = df['date_time'].dt.day\n",
    "df['month'] = df['date_time'].dt.month\n",
    "df['hour'] = df['date_time'].dt.hour\n",
    "df['day_of_week'] = df['date_time'].dt.dayofweek\n",
    "df.info()"
   ]
  },
  {
   "cell_type": "markdown",
   "metadata": {},
   "source": [
    "# 4.2. Data features\n",
    "## 4.2.1. Number of Daily Request "
   ]
  },
  {
   "cell_type": "code",
   "execution_count": 100,
   "metadata": {},
   "outputs": [
    {
     "data": {
      "image/png": "[encoded data removed]",
      "text/plain": [
       "<matplotlib.figure.Figure at 0x10c613da0>"
      ]
     },
     "metadata": {},
     "output_type": "display_data"
    }
   ],
   "source": [
    "# Counting number of session per day of week\n",
    "requestDayofWeek = df.groupby('day_of_week')['request'].nunique()\n",
    "requestDayofWeek = pd.DataFrame(requestDayofWeek)\n",
    "requestDayofWeek.columns= ['NumOfRequests']\n",
    "\n",
    "# plotting bar chart number session each day of weeek\n",
    "day=('Mon', 'Tue', 'Wed', 'Thur', 'Fri', 'Sat', 'Sun')\n",
    "x_axis=requestDayofWeek.index\n",
    "plt.bar(x_axis,requestDayofWeek['NumOfRequests'])\n",
    "plt.xticks(x_axis, day)\n",
    "plt.ylabel('Total Number of Requests')\n",
    "plt.xlabel('Day of Week')\n",
    "plt.title('Number of Daily requests')\n",
    "plt.show()"
   ]
  },
  {
   "cell_type": "code",
   "execution_count": 119,
   "metadata": {},
   "outputs": [
    {
     "data": {
      "image/png": "[encoded data removed]",
      "text/plain": [
       "<matplotlib.figure.Figure at 0x10c4b7978>"
      ]
     },
     "metadata": {},
     "output_type": "display_data"
    }
   ],
   "source": [
    "# Counting number of requests per hour of the day\n",
    "requestPerHour = df.groupby('hour')['request'].size()\n",
    "requestPerHour = pd.DataFrame(data=requestPerHour)\n",
    "requestPerHour.columns= ['NumOfHourlyRequest']\n",
    "\n",
    "# plotting bar chart of hourly session data\n",
    "x_axis=requestPerHour.index\n",
    "plt.bar(x_axis,requestPerHour['NumOfHourlyRequest'])\n",
    "plt.ylabel('Number of Hourly requests')\n",
    "plt.xlabel('Hour of Day')\n",
    "plt.title('Peak Request Hour')\n",
    "plt.show()"
   ]
  },
  {
   "cell_type": "markdown",
   "metadata": {},
   "source": [
    "## 4.2.2. Number of Visits"
   ]
  },
  {
   "cell_type": "code",
   "execution_count": 116,
   "metadata": {},
   "outputs": [],
   "source": [
    "df_DayOfWeek = df.groupby(['day_of_week','hour'])['request'].nunique()\n",
    "\n",
    "df_DayOfWeek.sort_index(inplace=True)\n",
    "df_DayOfWeek = pd.DataFrame(data=df_DayOfWeek)\n",
    "df_DayOfWeek.columns = ['NumOfRequest']\n",
    "df_DayOfWeek = pd.DataFrame(df_DayOfWeek.to_records())"
   ]
  },
  {
   "cell_type": "code",
   "execution_count": 117,
   "metadata": {},
   "outputs": [
    {
     "data": {
      "image/png": "[encoded data removed]",
      "text/plain": [
       "<matplotlib.figure.Figure at 0x10bb8a438>"
      ]
     },
     "metadata": {},
     "output_type": "display_data"
    }
   ],
   "source": [
    "df_DayOfWeek = df_DayOfWeek.pivot(\"day_of_week\", \"hour\", \"NumOfRequest\")\n",
    "\n",
    "import seaborn as sns\n",
    "\n",
    "ax = sns.heatmap(df_DayOfWeek)\n",
    "#plt.yticks(x_axis, DayofWeek)\n",
    "plt.title('Number of Unique Visits')\n",
    "plt.show(ax)"
   ]
  },
  {
   "cell_type": "code",
   "execution_count": null,
   "metadata": {},
   "outputs": [],
   "source": []
  },
  {
   "cell_type": "code",
   "execution_count": 24,
   "metadata": {
    "scrolled": true
   },
   "outputs": [
    {
     "name": "stdout",
     "output_type": "stream",
     "text": [
      "user_id\n",
      "1                                        [/robots.txt]\n",
      "2                        [/code/Global/code/menu.html]\n",
      "3    [homepage, /favicon.ico, /guarantee.html, /mor...\n",
      "4                                        [/robots.txt]\n",
      "5                           [/code/Ultra/services.htm]\n",
      "Name: request, dtype: object\n"
     ]
    }
   ],
   "source": [
    "requestsByUser = df.groupby(['user_id'])['request'].apply(list)\n",
    "print(requestsByUser.head(5))"
   ]
  },
  {
   "cell_type": "code",
   "execution_count": 25,
   "metadata": {},
   "outputs": [
    {
     "name": "stdout",
     "output_type": "stream",
     "text": [
      "                       Left_side                     Right_side   Support  \\\n",
      "0                                                    /eaglefarm  0.135637   \n",
      "1                                 /eaglefarm/javascript/menu.js  0.143373   \n",
      "2                                                  /favicon.ico  0.109335   \n",
      "3                                                   /robots.txt  0.202166   \n",
      "4                                                /services.html  0.120165   \n",
      "5                                                      homepage  0.373904   \n",
      "6                     /eaglefarm  /eaglefarm/javascript/menu.js  0.112429   \n",
      "7  /eaglefarm/javascript/menu.js                     /eaglefarm  0.112429   \n",
      "8                 /services.html                       homepage  0.100567   \n",
      "9                       homepage                 /services.html  0.100567   \n",
      "\n",
      "   Confidence      Lift  \n",
      "0    0.135637  1.000000  \n",
      "1    0.143373  1.000000  \n",
      "2    0.109335  1.000000  \n",
      "3    0.202166  1.000000  \n",
      "4    0.120165  1.000000  \n",
      "5    0.373904  1.000000  \n",
      "6    0.828897  5.781410  \n",
      "7    0.784173  5.781410  \n",
      "8    0.836910  2.238301  \n",
      "9    0.268966  2.238301  \n"
     ]
    }
   ],
   "source": [
    "from apyori import apriori\n",
    "\n",
    "# type cast the transactions from pandas into normal list format and run apriori\n",
    "requestsByUser_list = list(requestsByUser)\n",
    "results = list(apriori(requestsByUser_list, min_support=0.1))\n",
    "\n",
    "\n",
    "def convert_apriori_results_to_pandas_df(results):\n",
    "    rules = []\n",
    "\n",
    "    for rule_set in results:\n",
    "        for rule in rule_set.ordered_statistics:\n",
    "            # items_base = left side of rules, items_add = right side\n",
    "            # support, confidence and lift for respective rules\n",
    "            rules.append([','.join(rule.items_base), ','.join(rule.items_add),\n",
    "                          rule_set.support, rule.confidence, rule.lift])\n",
    "\n",
    "            # typecast it to pandas df\n",
    "    return pd.DataFrame(rules, columns=['Left_side', 'Right_side', 'Support', 'Confidence', 'Lift'])\n",
    "\n",
    "\n",
    "result_df = convert_apriori_results_to_pandas_df(results)\n",
    "print(result_df.head(20))"
   ]
  },
  {
   "cell_type": "code",
   "execution_count": 26,
   "metadata": {},
   "outputs": [
    {
     "name": "stdout",
     "output_type": "stream",
     "text": [
      "                       Left_side                     Right_side   Support  \\\n",
      "8                 /services.html                       homepage  0.100567   \n",
      "6                     /eaglefarm  /eaglefarm/javascript/menu.js  0.112429   \n",
      "7  /eaglefarm/javascript/menu.js                     /eaglefarm  0.112429   \n",
      "5                                                      homepage  0.373904   \n",
      "9                       homepage                 /services.html  0.100567   \n",
      "3                                                   /robots.txt  0.202166   \n",
      "1                                 /eaglefarm/javascript/menu.js  0.143373   \n",
      "0                                                    /eaglefarm  0.135637   \n",
      "4                                                /services.html  0.120165   \n",
      "2                                                  /favicon.ico  0.109335   \n",
      "\n",
      "   Confidence      Lift  \n",
      "8    0.836910  2.238301  \n",
      "6    0.828897  5.781410  \n",
      "7    0.784173  5.781410  \n",
      "5    0.373904  1.000000  \n",
      "9    0.268966  2.238301  \n",
      "3    0.202166  1.000000  \n",
      "1    0.143373  1.000000  \n",
      "0    0.135637  1.000000  \n",
      "4    0.120165  1.000000  \n",
      "2    0.109335  1.000000  \n"
     ]
    }
   ],
   "source": [
    "# sort all acquired rules descending by lift\n",
    "\n",
    "result_df = result_df.sort_values(by='Confidence', ascending=False)\n",
    "print(result_df.head(10))"
   ]
  },
  {
   "cell_type": "code",
   "execution_count": 27,
   "metadata": {},
   "outputs": [
    {
     "data": {
      "text/html": [
       "<div>\n",
       "<style scoped>\n",
       "    .dataframe tbody tr th:only-of-type {\n",
       "        vertical-align: middle;\n",
       "    }\n",
       "\n",
       "    .dataframe tbody tr th {\n",
       "        vertical-align: top;\n",
       "    }\n",
       "\n",
       "    .dataframe thead th {\n",
       "        text-align: right;\n",
       "    }\n",
       "</style>\n",
       "<table border=\"1\" class=\"dataframe\">\n",
       "  <thead>\n",
       "    <tr style=\"text-align: right;\">\n",
       "      <th></th>\n",
       "      <th>user_id</th>\n",
       "    </tr>\n",
       "    <tr>\n",
       "      <th>Hour</th>\n",
       "      <th></th>\n",
       "    </tr>\n",
       "  </thead>\n",
       "  <tbody>\n",
       "    <tr>\n",
       "      <th>0</th>\n",
       "      <td>58</td>\n",
       "    </tr>\n",
       "    <tr>\n",
       "      <th>1</th>\n",
       "      <td>42</td>\n",
       "    </tr>\n",
       "    <tr>\n",
       "      <th>2</th>\n",
       "      <td>48</td>\n",
       "    </tr>\n",
       "    <tr>\n",
       "      <th>3</th>\n",
       "      <td>39</td>\n",
       "    </tr>\n",
       "    <tr>\n",
       "      <th>4</th>\n",
       "      <td>54</td>\n",
       "    </tr>\n",
       "  </tbody>\n",
       "</table>\n",
       "</div>"
      ],
      "text/plain": [
       "      user_id\n",
       "Hour         \n",
       "0          58\n",
       "1          42\n",
       "2          48\n",
       "3          39\n",
       "4          54"
      ]
     },
     "execution_count": 27,
     "metadata": {},
     "output_type": "execute_result"
    }
   ],
   "source": [
    "DailySession = df.groupby('Day_of_week')['user_id'].nunique()\n",
    "DailySession = pd.DataFrame(data=DailySession)\n",
    "\n",
    "HourSession = df.groupby('Hour')['user_id'].nunique()\n",
    "HourSession = pd.DataFrame(data=HourSession)\n",
    "HourSession.head()"
   ]
  },
  {
   "cell_type": "code",
   "execution_count": 29,
   "metadata": {},
   "outputs": [
    {
     "data": {
      "image/png": "[encoded data removed]",
      "text/plain": [
       "<matplotlib.figure.Figure at 0x118b04978>"
      ]
     },
     "metadata": {},
     "output_type": "display_data"
    }
   ],
   "source": [
    "######  Bar chart for number of users by hours #######\n",
    "### change the color ######\n",
    "x_axis=HourSession.index\n",
    "plt.bar(x_axis,HourSession['user_id'])\n",
    "plt.ylabel('No of Users')\n",
    "plt.xlabel('Hour of the day')\n",
    "plt.title('Users by hour of the day')\n",
    "plt.show()"
   ]
  },
  {
   "cell_type": "code",
   "execution_count": null,
   "metadata": {},
   "outputs": [],
   "source": []
  }
 ],
 "metadata": {
  "kernelspec": {
   "display_name": "Python 3",
   "language": "python",
   "name": "python3"
  },
  "language_info": {
   "codemirror_mode": {
    "name": "ipython",
    "version": 3
   },
   "file_extension": ".py",
   "mimetype": "text/x-python",
   "name": "python",
   "nbconvert_exporter": "python",
   "pygments_lexer": "ipython3",
   "version": "3.6.4"
  }
 },
 "nbformat": 4,
 "nbformat_minor": 2
}
