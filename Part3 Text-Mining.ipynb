{
 "cells": [
  {
   "cell_type": "markdown",
   "metadata": {},
   "source": [
    "# Part 3: Text Mining(Clustering) the News Stories"
   ]
  },
  {
   "cell_type": "markdown",
   "metadata": {},
   "source": [
    "## Task 5 Text Mining"
   ]
  },
  {
   "cell_type": "markdown",
   "metadata": {},
   "source": [
    "### 1. Loading Text Data"
   ]
  },
  {
   "cell_type": "code",
   "execution_count": 1,
   "metadata": {},
   "outputs": [
    {
     "name": "stdout",
     "output_type": "stream",
     "text": [
      "<class 'pandas.core.frame.DataFrame'>\n",
      "RangeIndex: 200 entries, 0 to 199\n",
      "Data columns (total 13 columns):\n",
      "TEXT            200 non-null object\n",
      "URI             200 non-null object\n",
      "NAME            200 non-null object\n",
      "FILTERED        200 non-null object\n",
      "LANGUAGE        200 non-null object\n",
      "CREATED         200 non-null int64\n",
      "ACCESSED        200 non-null int64\n",
      "MODIFIED        200 non-null int64\n",
      "TRUNCATED       200 non-null int64\n",
      "OMITTED         200 non-null int64\n",
      "EXTENSION       200 non-null object\n",
      "SIZE            200 non-null int64\n",
      "FILTEREDSIZE    200 non-null int64\n",
      "dtypes: int64(7), object(6)\n",
      "memory usage: 20.4+ KB\n"
     ]
    }
   ],
   "source": [
    "import pandas as pd\n",
    "\n",
    "# load the dataset\n",
    "df = pd.read_csv('C:/Users/Soam wei jie/Dropbox/Master sem 3/Data mining/Assessment 2/bbc.csv')\n",
    "\n",
    "# random state\n",
    "rs = 42\n",
    "\n",
    "\n",
    "# as usual, explore the dataset\n",
    "df.info()"
   ]
  },
  {
   "cell_type": "code",
   "execution_count": 2,
   "metadata": {},
   "outputs": [
    {
     "name": "stdout",
     "output_type": "stream",
     "text": [
      "Claxton hunting first major medal  British hurdler Sarah Claxton is confident she can win her first major medal at next month's European Indoor Championships in Madrid.  The 25-year-old has already sm\n"
     ]
    },
    {
     "name": "stderr",
     "output_type": "stream",
     "text": [
      "C:\\Users\\Soam wei jie\\Anaconda3\\lib\\site-packages\\ipykernel_launcher.py:2: FutureWarning: get_value is deprecated and will be removed in a future release. Please use .at[] or .iat[] accessors instead\n",
      "  \n"
     ]
    }
   ],
   "source": [
    "# print out the first 200 characters of the first row of text column\n",
    "print(df.get_value(index=0, col='TEXT')[:200])"
   ]
  },
  {
   "cell_type": "code",
   "execution_count": 3,
   "metadata": {},
   "outputs": [
    {
     "name": "stdout",
     "output_type": "stream",
     "text": [
      "1927.73\n"
     ]
    }
   ],
   "source": [
    "# average length of text column\n",
    "print(df['TEXT'].apply(lambda x: len(x)).mean())"
   ]
  },
  {
   "cell_type": "markdown",
   "metadata": {},
   "source": [
    "### 2. Data Preprocessing"
   ]
  },
  {
   "cell_type": "code",
   "execution_count": 4,
   "metadata": {},
   "outputs": [],
   "source": [
    "import string\n",
    "\n",
    "from nltk.corpus import stopwords as sw\n",
    "from nltk.corpus import wordnet as wn\n",
    "from nltk import wordpunct_tokenize\n",
    "from nltk import WordNetLemmatizer\n",
    "from nltk import sent_tokenize\n",
    "from nltk import pos_tag"
   ]
  },
  {
   "cell_type": "code",
   "execution_count": 5,
   "metadata": {},
   "outputs": [],
   "source": [
    "# initialise WordNet lemmatizer and punctuation filter\n",
    "lemmatizer = WordNetLemmatizer()\n",
    "punct = set(string.punctuation)\n",
    "\n",
    "stopwords = set(sw.words('english'))\n",
    "\n",
    "\n",
    "def lemmatize(token, tag):\n",
    "    tag = {\n",
    "        'N': wn.NOUN,\n",
    "        'V': wn.VERB,\n",
    "        'R': wn.ADV,\n",
    "        'J': wn.ADJ\n",
    "    }.get(tag[0], wn.NOUN)\n",
    "\n",
    "    return lemmatizer.lemmatize(token, tag)"
   ]
  },
  {
   "cell_type": "code",
   "execution_count": 6,
   "metadata": {},
   "outputs": [],
   "source": [
    "def cab_tokenizer(document):\n",
    "    # initialize token list\n",
    "    tokens = []\n",
    "\n",
    "    # split the document into sentences\n",
    "    for sent in sent_tokenize(document):\n",
    "        # split the document into tokens and then create part of speech tag for each token\n",
    "        for token, tag in pos_tag(wordpunct_tokenize(sent)):\n",
    "            # preprocess and remove unnecessary characters\n",
    "            token = token.lower()\n",
    "            token = token.strip()\n",
    "            token = token.strip('_')\n",
    "            token = token.strip('*')\n",
    "            \n",
    "\n",
    "            # If stopword, ignore token and continue\n",
    "            if token in stopwords:\n",
    "                continue\n",
    "\n",
    "            # If punctuation, ignore token and continue\n",
    "            if all(char in punct for char in token):\n",
    "                continue\n",
    "\n",
    "            # Lemmatize the token and add back to the tokens list\n",
    "            lemma = lemmatize(token, tag)\n",
    "            tokens.append(lemma)\n",
    "\n",
    "    return tokens"
   ]
  },
  {
   "cell_type": "code",
   "execution_count": 7,
   "metadata": {},
   "outputs": [
    {
     "name": "stdout",
     "output_type": "stream",
     "text": [
      "36360\n"
     ]
    }
   ],
   "source": [
    "from sklearn.feature_extraction.text import TfidfVectorizer\n",
    "\n",
    "# tf idf vectoriser\n",
    "tfidf_vec = TfidfVectorizer(tokenizer=cab_tokenizer, ngram_range=(1, 2))\n",
    "X = tfidf_vec.fit_transform(df['TEXT'])\n",
    "\n",
    "# see the number of unique tokens produced by the vectorizer. Lots of them...\n",
    "print(len(tfidf_vec.get_feature_names()))"
   ]
  },
  {
   "cell_type": "markdown",
   "metadata": {},
   "source": [
    "### 3. Initial Document Analysis"
   ]
  },
  {
   "cell_type": "markdown",
   "metadata": {},
   "source": [
    "Obtain the \"optimal\" K value using the elbow method and silhouette score"
   ]
  },
  {
   "cell_type": "code",
   "execution_count": 8,
   "metadata": {},
   "outputs": [
    {
     "data": {
      "text/plain": [
       "<matplotlib.figure.Figure at 0x1afdbe39668>"
      ]
     },
     "metadata": {},
     "output_type": "display_data"
    }
   ],
   "source": [
    "from sklearn.cluster import KMeans\n",
    "import matplotlib.pyplot as plt\n",
    "\n",
    "############# Elbow ################\n",
    "# list to save the clusters and cost\n",
    "clusters = []\n",
    "inertia_vals = []\n",
    "\n",
    "# this whole process should take a while\n",
    "for k in range(2, 10, 1):\n",
    "    # train clustering with the specified K\n",
    "    model = KMeans(n_clusters=k, random_state=rs, n_jobs=10)\n",
    "    model.fit(X)\n",
    "    # append model to cluster list\n",
    "    clusters.append(model)\n",
    "    inertia_vals.append(model.inertia_)\n",
    "\n",
    "# plot the inertia vs K values\n",
    "plt.plot(range(2, 10, 1), inertia_vals, marker='*')\n",
    "plt.show()"
   ]
  },
  {
   "cell_type": "code",
   "execution_count": 9,
   "metadata": {},
   "outputs": [
    {
     "name": "stdout",
     "output_type": "stream",
     "text": [
      "KMeans(algorithm='auto', copy_x=True, init='k-means++', max_iter=300,\n",
      "    n_clusters=4, n_init=10, n_jobs=10, precompute_distances='auto',\n",
      "    random_state=42, tol=0.0001, verbose=0)\n",
      "Silhouette score for k=4 0.008292309272847803\n",
      "_______________________________________________________________\n",
      "KMeans(algorithm='auto', copy_x=True, init='k-means++', max_iter=300,\n",
      "    n_clusters=5, n_init=10, n_jobs=10, precompute_distances='auto',\n",
      "    random_state=42, tol=0.0001, verbose=0)\n",
      "Silhouette score for k=5 0.010785041854539794\n",
      "_______________________________________________________________\n",
      "KMeans(algorithm='auto', copy_x=True, init='k-means++', max_iter=300,\n",
      "    n_clusters=6, n_init=10, n_jobs=10, precompute_distances='auto',\n",
      "    random_state=42, tol=0.0001, verbose=0)\n",
      "Silhouette score for k=6 0.011225470684704177\n",
      "_______________________________________________________________\n",
      "KMeans(algorithm='auto', copy_x=True, init='k-means++', max_iter=300,\n",
      "    n_clusters=7, n_init=10, n_jobs=10, precompute_distances='auto',\n",
      "    random_state=42, tol=0.0001, verbose=0)\n",
      "Silhouette score for k=7 0.01107089113774536\n"
     ]
    }
   ],
   "source": [
    "from sklearn.metrics import silhouette_score\n",
    "#\n",
    "# print(clusters[1])\n",
    "# print(\"Silhouette score for k=4\", silhouette_score(X, clusters[1].predict(X)))\n",
    "\n",
    "print(clusters[2])\n",
    "print(\"Silhouette score for k=4\", silhouette_score(X, clusters[2].predict(X)))\n",
    "print(\"_______________________________________________________________\")\n",
    "\n",
    "print(clusters[3])\n",
    "print(\"Silhouette score for k=5\", silhouette_score(X, clusters[3].predict(X)))\n",
    "print(\"_______________________________________________________________\")\n",
    "\n",
    "print(clusters[4])\n",
    "print(\"Silhouette score for k=6\", silhouette_score(X, clusters[4].predict(X)))\n",
    "print(\"_______________________________________________________________\")\n",
    "\n",
    "print(clusters[5])\n",
    "print(\"Silhouette score for k=7\", silhouette_score(X, clusters[5].predict(X)))\n"
   ]
  },
  {
   "cell_type": "markdown",
   "metadata": {},
   "source": [
    "From results of applying elbow method and silhouette score, we could  try `6` as the optimal `K` value"
   ]
  },
  {
   "cell_type": "code",
   "execution_count": 10,
   "metadata": {},
   "outputs": [],
   "source": [
    "# K means clustering using the term vector\n",
    "kmeans = KMeans(n_clusters=6, random_state=rs).fit(X)"
   ]
  },
  {
   "cell_type": "code",
   "execution_count": 11,
   "metadata": {},
   "outputs": [
    {
     "name": "stdout",
     "output_type": "stream",
     "text": [
      "Top terms for cluster 0: race, world, marathon, cross country, chepkemei, \n",
      "Top terms for cluster 1: open, australian, australian open, 6, grand slam, \n",
      "Top terms for cluster 2: drug, test, athletics, athens, ban, \n",
      "Top terms for cluster 3: say, game, play, win, cup, \n",
      "Top terms for cluster 4: england, ball, wale, williams, ireland, \n",
      "Top terms for cluster 5: club, want, liverpool, souness, player, \n"
     ]
    }
   ],
   "source": [
    "# function to visualise text cluster. Useful for the assignment too\n",
    "def visualise_text_cluster(n_clusters, cluster_centers, terms, num_word=5):\n",
    "    # -- Params --\n",
    "    # cluster_centers: cluster centers of fitted/trained KMeans/other centroid-based clustering\n",
    "    # terms: terms used for clustering\n",
    "    # num_word: number of terms to show per cluster. Change as you please.\n",
    "\n",
    "    # find features/terms closest to centroids\n",
    "    ordered_centroids = cluster_centers.argsort()[:, ::-1]\n",
    "\n",
    "    for cluster in range(n_clusters):\n",
    "        print(\"Top terms for cluster {}:\".format(cluster), end=\" \")\n",
    "        for term_idx in ordered_centroids[cluster, :5]:\n",
    "            print(terms[term_idx], end=', ')\n",
    "        print()\n",
    "\n",
    "\n",
    "# call it\n",
    "visualise_text_cluster(kmeans.n_clusters, kmeans.cluster_centers_, tfidf_vec.get_feature_names())"
   ]
  },
  {
   "cell_type": "markdown",
   "metadata": {},
   "source": [
    "###  4. Feature Selection and Transformation\n",
    "#### 4.1. Zipf's Law and Document Frequency Filtering"
   ]
  },
  {
   "cell_type": "code",
   "execution_count": 102,
   "metadata": {},
   "outputs": [],
   "source": [
    "import seaborn as sns\n",
    "import matplotlib.pyplot as plt\n",
    "\n",
    "\n",
    "# creating tf-idf terms - a bit slow, do it occasionaly\n",
    "def calculate_tf_idf_terms(document_col):\n",
    "    # Param - document_col: collection of raw document text that you want to analyse\n",
    "    from sklearn.feature_extraction.text import CountVectorizer\n",
    "\n",
    "    # use count vectorizer to find TF and DF of each term\n",
    "    count_vec = CountVectorizer(tokenizer=cab_tokenizer, ngram_range=(1, 2))\n",
    "    X_count = count_vec.fit_transform(df['TEXT'])\n",
    "\n",
    "    # create list of terms and their tf and df\n",
    "    terms = [{'term': t, 'idx': count_vec.vocabulary_[t],\n",
    "              'tf': X_count[:, count_vec.vocabulary_[t]].sum(),\n",
    "              'df': X_count[:, count_vec.vocabulary_[t]].count_nonzero()}\n",
    "             for t in count_vec.vocabulary_]\n",
    "\n",
    "    return terms\n",
    "\n",
    "\n",
    "terms = calculate_tf_idf_terms(df['TEXT'])\n"
   ]
  },
  {
   "cell_type": "markdown",
   "metadata": {},
   "source": [
    "## Terms sort by frequency"
   ]
  },
  {
   "cell_type": "code",
   "execution_count": 105,
   "metadata": {},
   "outputs": [],
   "source": [
    "# sort terms by its frequency\n",
    "terms.sort(key=lambda x: (x['tf'], x['df']), reverse=True)\n",
    "\n",
    "# select a few of the terms for plotting purpose\n",
    "sel_terms = [terms[i] for i in range(0, len(terms))]\n",
    "labels = [term['term'] for term in sel_terms]\n",
    "#print(labels)"
   ]
  },
  {
   "cell_type": "code",
   "execution_count": 13,
   "metadata": {},
   "outputs": [
    {
     "data": {
      "image/png": "[encoded data removed]",
      "text/plain": [
       "<matplotlib.figure.Figure at 0x1afde174358>"
      ]
     },
     "metadata": {},
     "output_type": "display_data"
    }
   ],
   "source": [
    "# visualisation of ZIPF law\n",
    "def visualise_zipf(terms, itr_step=10):\n",
    "    from scipy.spatial.distance import euclidean\n",
    "    from math import sqrt\n",
    "\n",
    "    # --- Param ---\n",
    "    # terms: collection of terms dictionary from calculate_tf_idf_terms function\n",
    "    # itr_step: used to control how many terms that you want to plot. Num of terms to plot = N terms / itr_step\n",
    "\n",
    "    # sort terms by its frequency\n",
    "    terms.sort(key=lambda x: (x['tf'], x['df']), reverse=True)\n",
    "\n",
    "    # select a few of the terms for plotting purpose\n",
    "    sel_terms = [terms[i] for i in range(0, len(terms), itr_step)]\n",
    "    labels = [term['term'] for term in sel_terms]\n",
    "\n",
    "    # plot term frequency ranking vs its DF\n",
    "    plt.plot(range(len(sel_terms)), [x['df'] for x in sel_terms])\n",
    "    plt.xlabel('Term frequency ranking')\n",
    "    plt.ylabel('Document frequency')\n",
    "\n",
    "    max_x = len(sel_terms)\n",
    "    max_y = max([x['df'] for x in sel_terms])\n",
    "\n",
    "    # annotate the points\n",
    "    prev_x, prev_y = 0, 0\n",
    "    for label, x, y in zip(labels, range(len(sel_terms)), [x['df'] for x in sel_terms]):\n",
    "        # calculate the relative distance between labels to increase visibility\n",
    "        x_dist = (abs(x - prev_x) / float(max_x)) ** 1.7\n",
    "        y_dist = (abs(y - prev_y) / float(max_y)) ** 2.2\n",
    "        scaled_dist = sqrt(x_dist + y_dist)\n",
    "\n",
    "        if (scaled_dist > 0.1):\n",
    "            plt.text(x + 2, y + 2, label, {'ha': 'left', 'va': 'bottom'}, rotation=30)\n",
    "            prev_x, prev_y = x, y\n",
    "\n",
    "    plt.show()\n",
    "\n",
    "visualise_zipf(terms)"
   ]
  },
  {
   "cell_type": "code",
   "execution_count": 113,
   "metadata": {
    "scrolled": true
   },
   "outputs": [
    {
     "name": "stdout",
     "output_type": "stream",
     "text": [
      "1552\n"
     ]
    }
   ],
   "source": [
    "# another tf idf vectoriser\n",
    "# limit the terms produced to terms that occured in min of 5 documents and max 80% of all documents\n",
    "filter_vec = TfidfVectorizer(tokenizer=cab_tokenizer, ngram_range=(1,2), min_df=5, max_df=0.8)\n",
    "X_filter = filter_vec.fit_transform(df['TEXT'])\n",
    "\n",
    "# see the number of unique tokens produced by the vectorizer. Reduced!\n",
    "print(len(filter_vec.get_feature_names()))"
   ]
  },
  {
   "cell_type": "markdown",
   "metadata": {},
   "source": [
    "## Count the frequency of high frequent term after setting a parameter of document frequency less than 5, or over 80% have been removed"
   ]
  },
  {
   "cell_type": "code",
   "execution_count": 115,
   "metadata": {},
   "outputs": [],
   "source": [
    "def calculate_tf_idf_terms(document_col):\n",
    "    # Param - document_col: collection of raw document text that you want to analyse\n",
    "    from sklearn.feature_extraction.text import CountVectorizer\n",
    "\n",
    "    # use count vectorizer to find TF and DF of each term\n",
    "    count_vec = CountVectorizer(tokenizer=cab_tokenizer, ngram_range=(1, 2), min_df=5, max_df=0.8)\n",
    "    X_count = count_vec.fit_transform(df['TEXT'])\n",
    "\n",
    "    # create list of terms and their tf and df\n",
    "    terms = [{'term': t, 'idx': count_vec.vocabulary_[t],\n",
    "              'tf': X_count[:, count_vec.vocabulary_[t]].sum(),\n",
    "              'df': X_count[:, count_vec.vocabulary_[t]].count_nonzero()}\n",
    "             for t in count_vec.vocabulary_]\n",
    "\n",
    "    return terms\n",
    "\n",
    "\n",
    "terms = calculate_tf_idf_terms(df['TEXT'])"
   ]
  },
  {
   "cell_type": "code",
   "execution_count": 129,
   "metadata": {},
   "outputs": [
    {
     "name": "stdout",
     "output_type": "stream",
     "text": [
      "{'term': 'year', 'idx': 1538, 'tf': 308, 'df': 134}\n",
      "{'term': 'game', 'idx': 585, 'tf': 249, 'df': 106}\n",
      "{'term': 'win', 'idx': 1501, 'tf': 246, 'df': 102}\n",
      "{'term': 'play', 'idx': 1041, 'tf': 240, 'df': 104}\n",
      "{'term': 'one', 'idx': 987, 'tf': 204, 'df': 104}\n",
      "{'term': 'go', 'idx': 607, 'tf': 203, 'df': 112}\n",
      "{'term': 'take', 'idx': 1359, 'tf': 202, 'df': 112}\n",
      "{'term': 'england', 'idx': 451, 'tf': 199, 'df': 52}\n",
      "{'term': 'two', 'idx': 1442, 'tf': 197, 'df': 103}\n",
      "{'term': 'time', 'idx': 1407, 'tf': 189, 'df': 115}\n",
      "{'term': 'first', 'idx': 533, 'tf': 185, 'df': 89}\n",
      "{'term': 'world', 'idx': 1523, 'tf': 180, 'df': 92}\n",
      "{'term': 'get', 'idx': 596, 'tf': 175, 'df': 87}\n",
      "{'term': 'player', 'idx': 1045, 'tf': 164, 'df': 82}\n",
      "{'term': 'make', 'idx': 866, 'tf': 163, 'df': 108}\n"
     ]
    }
   ],
   "source": [
    "# sort terms by its frequency\n",
    "terms.sort(key=lambda x: (x['tf'], x['df']), reverse=True)\n",
    "\n",
    "# select a few of the terms for plotting purpose\n",
    "sel_terms = [terms[i] for i in range(0, len(terms))]\n",
    "labels = [term['term'] for term in sel_terms]\n",
    "print(sel_terms[0])\n",
    "print(sel_terms[1])\n",
    "print(sel_terms[2])\n",
    "print(sel_terms[3])\n",
    "print(sel_terms[4])\n",
    "print(sel_terms[5])\n",
    "print(sel_terms[6])\n",
    "print(sel_terms[7])\n",
    "print(sel_terms[8])\n",
    "print(sel_terms[9])\n",
    "print(sel_terms[10])\n",
    "print(sel_terms[11])\n",
    "print(sel_terms[12])\n",
    "print(sel_terms[13])\n",
    "print(sel_terms[14])"
   ]
  },
  {
   "cell_type": "markdown",
   "metadata": {},
   "source": [
    "## Selecting the number of K"
   ]
  },
  {
   "cell_type": "code",
   "execution_count": 45,
   "metadata": {},
   "outputs": [
    {
     "data": {
      "image/png": "[encoded data removed]",
      "text/plain": [
       "<matplotlib.figure.Figure at 0x1afde05deb8>"
      ]
     },
     "metadata": {},
     "output_type": "display_data"
    }
   ],
   "source": [
    "from sklearn.cluster import KMeans\n",
    "import matplotlib.pyplot as plt\n",
    "\n",
    "############# Elbow ################\n",
    "# list to save the clusters and cost\n",
    "clusters = []\n",
    "inertia_vals = []\n",
    "\n",
    "# this whole process should take a while\n",
    "for k in range(2, 10, 1):\n",
    "    # train clustering with the specified K\n",
    "    model = KMeans(n_clusters=k, random_state=rs, n_jobs=10)\n",
    "    model.fit(X_filter)\n",
    "    # append model to cluster list\n",
    "    clusters.append(model)\n",
    "    inertia_vals.append(model.inertia_)\n",
    "\n",
    "# plot the inertia vs K values\n",
    "plt.plot(range(2, 10, 1), inertia_vals, marker='*')\n",
    "plt.show()"
   ]
  },
  {
   "cell_type": "code",
   "execution_count": 68,
   "metadata": {},
   "outputs": [
    {
     "name": "stdout",
     "output_type": "stream",
     "text": [
      "KMeans(algorithm='auto', copy_x=True, init='k-means++', max_iter=300,\n",
      "    n_clusters=4, n_init=10, n_jobs=10, precompute_distances='auto',\n",
      "    random_state=42, tol=0.0001, verbose=0)\n",
      "Silhouette score for k=4 0.029424736055407633\n",
      "_______________________________________________________________\n",
      "KMeans(algorithm='auto', copy_x=True, init='k-means++', max_iter=300,\n",
      "    n_clusters=5, n_init=10, n_jobs=10, precompute_distances='auto',\n",
      "    random_state=42, tol=0.0001, verbose=0)\n",
      "Silhouette score for k=5 0.038010763426726844\n",
      "_______________________________________________________________\n",
      "KMeans(algorithm='auto', copy_x=True, init='k-means++', max_iter=300,\n",
      "    n_clusters=6, n_init=10, n_jobs=10, precompute_distances='auto',\n",
      "    random_state=42, tol=0.0001, verbose=0)\n",
      "Silhouette score for k=6 0.03760645076166927\n",
      "_______________________________________________________________\n",
      "KMeans(algorithm='auto', copy_x=True, init='k-means++', max_iter=300,\n",
      "    n_clusters=7, n_init=10, n_jobs=10, precompute_distances='auto',\n",
      "    random_state=42, tol=0.0001, verbose=0)\n",
      "Silhouette score for k=7 0.03908201517421785\n"
     ]
    }
   ],
   "source": [
    "from sklearn.metrics import silhouette_score\n",
    "#\n",
    "print(clusters[2])\n",
    "print(\"Silhouette score for k=4\", silhouette_score(X_filter, clusters[2].predict(X_filter)))\n",
    "print(\"_______________________________________________________________\")\n",
    "\n",
    "print(clusters[3])\n",
    "print(\"Silhouette score for k=5\", silhouette_score(X_filter, clusters[3].predict(X_filter)))\n",
    "print(\"_______________________________________________________________\")\n",
    "\n",
    "print(clusters[4])\n",
    "print(\"Silhouette score for k=6\", silhouette_score(X_filter, clusters[4].predict(X_filter)))\n",
    "print(\"_______________________________________________________________\")\n",
    "\n",
    "print(clusters[5])\n",
    "print(\"Silhouette score for k=7\", silhouette_score(X_filter, clusters[5].predict(X_filter)))"
   ]
  },
  {
   "cell_type": "markdown",
   "metadata": {},
   "source": [
    "## SVD\n"
   ]
  },
  {
   "cell_type": "code",
   "execution_count": 41,
   "metadata": {},
   "outputs": [],
   "source": [
    "from sklearn.decomposition import TruncatedSVD\n",
    "\n",
    "svd = TruncatedSVD(n_components=100, random_state=42)\n",
    "X_trans = svd.fit_transform(X_filter)"
   ]
  },
  {
   "cell_type": "code",
   "execution_count": 42,
   "metadata": {},
   "outputs": [
    {
     "name": "stdout",
     "output_type": "stream",
     "text": [
      "Top terms in component #0 england, year, play, win, game, \n",
      "Top terms in component #1 6, open, 7, roddick, australian, \n",
      "Top terms in component #2 athletics, athens, world, race, olympic, \n",
      "Top terms in component #3 test, wicket, run, ball, pakistan, \n",
      "Top terms in component #4 ireland, wale, nation, scotland, six nation, \n",
      "Top terms in component #5 open, australian, australian open, clijsters, cricket, \n",
      "Top terms in component #6 greek, drug, kenteris, iaaf, thanou, \n",
      "Top terms in component #7 roddick, moya, cup, spain, davis, \n",
      "Top terms in component #8 chepkemei, cross country, marathon, radcliffe, country, \n",
      "Top terms in component #9 liverpool, 6, club, benitez, 7, \n"
     ]
    }
   ],
   "source": [
    "# sort the components by largest weighted word\n",
    "sorted_comp = svd.components_.argsort()[:, ::-1]\n",
    "terms = filter_vec.get_feature_names()\n",
    "\n",
    "# visualise word - concept/component relationships\n",
    "for comp_num in range(10):\n",
    "    print(\"Top terms in component #{}\".format(comp_num), end=\" \")\n",
    "    for i in sorted_comp[comp_num, :5]:\n",
    "        print(terms[i], end=\", \")\n",
    "    print()"
   ]
  },
  {
   "cell_type": "code",
   "execution_count": 65,
   "metadata": {},
   "outputs": [],
   "source": [
    "svd_kmeans = KMeans(n_clusters=7, random_state=rs).fit(X_trans)"
   ]
  },
  {
   "cell_type": "code",
   "execution_count": 66,
   "metadata": {
    "scrolled": true
   },
   "outputs": [
    {
     "name": "stdout",
     "output_type": "stream",
     "text": [
      "Top terms for cluster 0: race, world, year, indoor, olympic, \n",
      "Top terms for cluster 1: 6, 7, roddick, moya, 3, \n",
      "Top terms for cluster 2: pakistan, ball, wicket, test, day, \n",
      "Top terms for cluster 3: open, australian, australian open, federer, grand slam, \n",
      "Top terms for cluster 4: england, wale, ireland, nation, six nation, \n",
      "Top terms for cluster 5: club, game, player, chelsea, play, \n",
      "Top terms for cluster 6: drug, ban, greek, test, iaaf, \n"
     ]
    }
   ],
   "source": [
    "# transform cluster centers back to original feature space for visualisation\n",
    "original_space_centroids = svd.inverse_transform(svd_kmeans.cluster_centers_)\n",
    "\n",
    "# visualisation\n",
    "visualise_text_cluster(svd_kmeans.n_clusters, original_space_centroids, filter_vec.get_feature_names())"
   ]
  },
  {
   "cell_type": "code",
   "execution_count": null,
   "metadata": {},
   "outputs": [],
   "source": []
  }
 ],
 "metadata": {
  "kernelspec": {
   "display_name": "Python 3",
   "language": "python",
   "name": "python3"
  },
  "language_info": {
   "codemirror_mode": {
    "name": "ipython",
    "version": 3
   },
   "file_extension": ".py",
   "mimetype": "text/x-python",
   "name": "python",
   "nbconvert_exporter": "python",
   "pygments_lexer": "ipython3",
   "version": "3.6.4"
  }
 },
 "nbformat": 4,
 "nbformat_minor": 2
}
