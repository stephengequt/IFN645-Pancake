{
 "cells": [
  {
   "cell_type": "markdown",
   "metadata": {},
   "source": [
    "## 1. Can you identify any clear patterns by initial exploration of the data using histogram or box plot?"
   ]
  },
  {
   "cell_type": "code",
   "execution_count": 1,
   "metadata": {},
   "outputs": [
    {
     "name": "stdout",
     "output_type": "stream",
     "text": [
      "<class 'pandas.core.frame.DataFrame'>\n",
      "RangeIndex: 22223 entries, 0 to 22222\n",
      "Data columns (total 18 columns):\n",
      "CUSTID          22223 non-null int64\n",
      "GENDER          19711 non-null object\n",
      "DOB             22223 non-null object\n",
      "EDATE           22223 non-null object\n",
      "AGE             20715 non-null float64\n",
      "AGEGRP1         20715 non-null object\n",
      "AGEGRP2         20715 non-null object\n",
      "TV_REG          21758 non-null object\n",
      "NGROUP          21549 non-null object\n",
      "NEIGHBORHOOD    21549 non-null float64\n",
      "LCDATE          21942 non-null object\n",
      "ORGANICS        22223 non-null int64\n",
      "BILL            22223 non-null float64\n",
      "REGION          21758 non-null object\n",
      "CLASS           22223 non-null object\n",
      "ORGYN           22223 non-null int64\n",
      "AFFL            21138 non-null float64\n",
      "LTIME           21942 non-null float64\n",
      "dtypes: float64(5), int64(3), object(10)\n",
      "memory usage: 3.1+ MB\n",
      "None\n"
     ]
    }
   ],
   "source": [
    "import pandas as pd\n",
    "import os\n",
    "\n",
    "os.getcwd()\n",
    "\n",
    "df = pd.read_csv('organics.csv')\n",
    "\n",
    "print(df.info())\n"
   ]
  },
  {
   "cell_type": "code",
   "execution_count": 41,
   "metadata": {},
   "outputs": [
    {
     "name": "stdout",
     "output_type": "stream",
     "text": [
      "count    21138.000000\n",
      "mean         8.711893\n",
      "std          3.421125\n",
      "min          0.000000\n",
      "25%          6.000000\n",
      "50%          8.000000\n",
      "75%         11.000000\n",
      "max         34.000000\n",
      "Name: AFFL, dtype: float64\n",
      "-----------------------------\n",
      "count    22223.000000\n",
      "mean        53.800207\n",
      "std         13.216248\n",
      "min         18.000000\n",
      "25%         44.000000\n",
      "50%         54.000000\n",
      "75%         64.000000\n",
      "max         80.000000\n",
      "Name: AGE, dtype: float64\n",
      "-----------------------------\n",
      "count     22223\n",
      "unique        4\n",
      "top       40-60\n",
      "freq      10576\n",
      "Name: AGEGRP1, dtype: object\n",
      "-----------------------------\n",
      "count     22223\n",
      "unique        7\n",
      "top       50-60\n",
      "freq       5536\n",
      "Name: AGEGRP2, dtype: object\n",
      "-----------------------------\n",
      "count    22223.000000\n",
      "mean         6.564670\n",
      "std          4.627574\n",
      "min          0.000000\n",
      "25%          4.000000\n",
      "50%          5.000000\n",
      "75%          8.000000\n",
      "max         39.000000\n",
      "Name: LTIME, dtype: float64\n",
      "-----------------------------\n",
      "F    12149\n",
      "M     5815\n",
      "U     4259\n",
      "Name: GENDER, dtype: int64\n",
      "-----------------------------\n",
      "There is missing value in gender\n",
      "['U' 'F' 'M']\n",
      "-----------------------------\n",
      "There is missing value in AGEGRP1, AGEGRP2 and AGE\n",
      "['70-80' '40-50' '60-70' '50-60' '30-40' '20-30' '10-20']\n"
     ]
    }
   ],
   "source": [
    "print(df['AFFL'].describe())\n",
    "\n",
    "print('-----------------------------')\n",
    "\n",
    "print(df['AGE'].describe())\n",
    "\n",
    "print('-----------------------------')\n",
    "\n",
    "print(df['AGEGRP1'].describe())\n",
    "\n",
    "print('-----------------------------')\n",
    "\n",
    "print(df['AGEGRP2'].describe())\n",
    "\n",
    "print('-----------------------------')\n",
    "\n",
    "print(df['LTIME'].describe())\n",
    "\n",
    "print('-----------------------------')\n",
    "\n",
    "print(df['GENDER'].value_counts())\n",
    "\n",
    "print('-----------------------------')\n",
    "\n",
    "print('There is missing value in gender')\n",
    "print(df['GENDER'].unique())\n",
    "\n",
    "print('-----------------------------')\n",
    "\n",
    "print('There is missing value in AGEGRP1, AGEGRP2 and AGE')\n",
    "print(df['AGEGRP2'].unique())\n"
   ]
  },
  {
   "cell_type": "code",
   "execution_count": 3,
   "metadata": {},
   "outputs": [],
   "source": [
    "import matplotlib.pyplot as plt\n",
    "import seaborn as sns\n",
    "import numpy as np"
   ]
  },
  {
   "cell_type": "code",
   "execution_count": 4,
   "metadata": {},
   "outputs": [
    {
     "name": "stdout",
     "output_type": "stream",
     "text": [
      "                ----------------HISTOGRAM FOR AGE-----------------\n"
     ]
    },
    {
     "data": {
      "image/png": "[encoded data removed]",
      "text/plain": [
       "<matplotlib.figure.Figure at 0x20ca9d78be0>"
      ]
     },
     "metadata": {},
     "output_type": "display_data"
    }
   ],
   "source": [
    "print (\"                ----------------HISTOGRAM FOR AGE-----------------\")\n",
    "dg = sns.distplot(df['AGE'].dropna())\n",
    "plt.show()"
   ]
  },
  {
   "cell_type": "code",
   "execution_count": 5,
   "metadata": {},
   "outputs": [
    {
     "name": "stdout",
     "output_type": "stream",
     "text": [
      "                ----------------HISTOGRAM FOR NEIGHBORHOOD-----------------\n"
     ]
    },
    {
     "data": {
      "image/png": "[encoded data removed]",
      "text/plain": [
       "<matplotlib.figure.Figure at 0x20ca9e60f28>"
      ]
     },
     "metadata": {},
     "output_type": "display_data"
    }
   ],
   "source": [
    "print (\"                ----------------HISTOGRAM FOR NEIGHBORHOOD-----------------\")\n",
    "dg = sns.distplot(df['NEIGHBORHOOD'].dropna())\n",
    "plt.show()"
   ]
  },
  {
   "cell_type": "code",
   "execution_count": 6,
   "metadata": {},
   "outputs": [
    {
     "name": "stdout",
     "output_type": "stream",
     "text": [
      "                ----------------HISTOGRAM FOR BILL-----------------\n"
     ]
    },
    {
     "data": {
      "image/png": "[encoded data removed]",
      "text/plain": [
       "<matplotlib.figure.Figure at 0x20caa27ed30>"
      ]
     },
     "metadata": {},
     "output_type": "display_data"
    }
   ],
   "source": [
    "print (\"                ----------------HISTOGRAM FOR BILL-----------------\")\n",
    "dg = sns.distplot(df['BILL'].dropna())\n",
    "plt.show()"
   ]
  },
  {
   "cell_type": "code",
   "execution_count": 7,
   "metadata": {},
   "outputs": [
    {
     "name": "stdout",
     "output_type": "stream",
     "text": [
      "                ----------------HISTOGRAM FOR AFFLUENCE-----------------\n"
     ]
    },
    {
     "data": {
      "image/png": "[encoded data removed]",
      "text/plain": [
       "<matplotlib.figure.Figure at 0x20caa3e4550>"
      ]
     },
     "metadata": {},
     "output_type": "display_data"
    }
   ],
   "source": [
    "print (\"                ----------------HISTOGRAM FOR AFFLUENCE-----------------\")\n",
    "dg = sns.distplot(df['AFFL'].dropna())\n",
    "plt.show()"
   ]
  },
  {
   "cell_type": "code",
   "execution_count": 8,
   "metadata": {},
   "outputs": [
    {
     "name": "stdout",
     "output_type": "stream",
     "text": [
      "                ----------------HISTOGRAM FOR TIME AS LOYALTY CARD MEMBER-----------------\n"
     ]
    },
    {
     "data": {
      "image/png": "[encoded data removed]",
      "text/plain": [
       "<matplotlib.figure.Figure at 0x20caa4caa20>"
      ]
     },
     "metadata": {},
     "output_type": "display_data"
    }
   ],
   "source": [
    "print (\"                ----------------HISTOGRAM FOR TIME AS LOYALTY CARD MEMBER-----------------\")\n",
    "dg = sns.distplot(df['LTIME'].dropna())\n",
    "plt.show()"
   ]
  },
  {
   "cell_type": "code",
   "execution_count": 9,
   "metadata": {},
   "outputs": [
    {
     "name": "stdout",
     "output_type": "stream",
     "text": [
      "Raw count of genders of customers with organics purchased\n",
      "ORGYN  AGEGRP2\n",
      "0      50-60      4435\n",
      "       60-70      3951\n",
      "       40-50      3375\n",
      "       70-80      2451\n",
      "       30-40      1200\n",
      "       20-30       188\n",
      "       10-20        15\n",
      "1      30-40      1759\n",
      "       40-50      1145\n",
      "       50-60       779\n",
      "       60-70       688\n",
      "       70-80       441\n",
      "       20-30       288\n",
      "Name: AGEGRP2, dtype: int64\n",
      "------------------\n",
      "Normalised count (percentage) of genders of customers with organics purchased\n",
      "ORGYN  AGEGRP2\n",
      "0      50-60      0.284022\n",
      "       60-70      0.253026\n",
      "       40-50      0.216138\n",
      "       70-80      0.156964\n",
      "       30-40      0.076849\n",
      "       20-30      0.012040\n",
      "       10-20      0.000961\n",
      "1      30-40      0.344902\n",
      "       40-50      0.224510\n",
      "       50-60      0.152745\n",
      "       60-70      0.134902\n",
      "       70-80      0.086471\n",
      "       20-30      0.056471\n",
      "Name: AGEGRP2, dtype: float64\n"
     ]
    }
   ],
   "source": [
    "print(\"Raw count of genders of customers with organics purchased\")\n",
    "print(df.groupby(['ORGYN'])['AGEGRP2'].value_counts())\n",
    "\n",
    "print(\"------------------\")\n",
    "\n",
    "# add normalisation to get the relative frequency\n",
    "print(\"Normalised count (percentage) of genders of customers with organics purchased\")\n",
    "print(df.groupby(['ORGYN'])['AGEGRP2'].value_counts(normalize=True))"
   ]
  },
  {
   "cell_type": "code",
   "execution_count": 10,
   "metadata": {},
   "outputs": [
    {
     "data": {
      "image/png": "[encoded data removed]",
      "text/plain": [
       "<matplotlib.figure.Figure at 0x20caa309da0>"
      ]
     },
     "metadata": {},
     "output_type": "display_data"
    }
   ],
   "source": [
    "\n",
    "dg = sns.countplot(data=df, x='ORGYN')\n",
    "plt.show()\n"
   ]
  },
  {
   "cell_type": "code",
   "execution_count": 11,
   "metadata": {},
   "outputs": [
    {
     "data": {
      "image/png": "[encoded data removed]",
      "text/plain": [
       "<matplotlib.figure.Figure at 0x20caa49def0>"
      ]
     },
     "metadata": {},
     "output_type": "display_data"
    }
   ],
   "source": [
    "dg = sns.countplot(data=df, x='AGEGRP2')\n",
    "plt.show()\n"
   ]
  },
  {
   "cell_type": "code",
   "execution_count": 12,
   "metadata": {},
   "outputs": [
    {
     "name": "stdout",
     "output_type": "stream",
     "text": [
      "                ----------------BOX PLOT FOR AGE-----------------\n"
     ]
    },
    {
     "data": {
      "image/png": "[encoded data removed]",
      "text/plain": [
       "<matplotlib.figure.Figure at 0x20caa5a75c0>"
      ]
     },
     "metadata": {},
     "output_type": "display_data"
    }
   ],
   "source": [
    "print (\"                ----------------BOX PLOT FOR AGE-----------------\")\n",
    "ax = sns.boxplot(x=\"ORGYN\", y=\"AGE\", data=df)\n",
    "plt.show()"
   ]
  },
  {
   "cell_type": "code",
   "execution_count": 13,
   "metadata": {},
   "outputs": [
    {
     "name": "stdout",
     "output_type": "stream",
     "text": [
      "                ----------------BOX PLOT FOR BILL-----------------\n"
     ]
    },
    {
     "data": {
      "image/png": "[encoded data removed]",
      "text/plain": [
       "<matplotlib.figure.Figure at 0x20ca7aa2b00>"
      ]
     },
     "metadata": {},
     "output_type": "display_data"
    }
   ],
   "source": [
    "print (\"                ----------------BOX PLOT FOR BILL-----------------\")\n",
    "ax = sns.boxplot(x=\"ORGYN\", y=\"BILL\", data=df)\n",
    "plt.show()"
   ]
  },
  {
   "cell_type": "code",
   "execution_count": null,
   "metadata": {},
   "outputs": [],
   "source": []
  },
  {
   "cell_type": "markdown",
   "metadata": {},
   "source": [
    "## 2. What is the proportion of individuals who purchased organic products?"
   ]
  },
  {
   "cell_type": "code",
   "execution_count": 14,
   "metadata": {},
   "outputs": [
    {
     "name": "stdout",
     "output_type": "stream",
     "text": [
      "Raw count of genders of customers with organics purchased\n",
      "ORGYN  GENDER\n",
      "0      F         7944\n",
      "       M         4849\n",
      "       U         1642\n",
      "1      F         4205\n",
      "       M          966\n",
      "       U          105\n",
      "Name: GENDER, dtype: int64\n",
      "------------------\n",
      "Normalised count (percentage) of genders of customers with organics purchased\n",
      "ORGYN  GENDER\n",
      "0      F         0.550329\n",
      "       M         0.335920\n",
      "       U         0.113751\n",
      "1      F         0.797005\n",
      "       M         0.183093\n",
      "       U         0.019901\n",
      "Name: GENDER, dtype: float64\n"
     ]
    }
   ],
   "source": [
    "print(\"Raw count of genders of customers with organics purchased\")\n",
    "print(df.groupby(['ORGYN'])['GENDER'].value_counts())\n",
    "\n",
    "print(\"------------------\")\n",
    "\n",
    "# add normalisation to get the relative frequency\n",
    "print(\"Normalised count (percentage) of genders of customers with organics purchased\")\n",
    "print(df.groupby(['ORGYN'])['GENDER'].value_counts(normalize=True))"
   ]
  },
  {
   "cell_type": "code",
   "execution_count": 15,
   "metadata": {},
   "outputs": [
    {
     "name": "stdout",
     "output_type": "stream",
     "text": [
      "Raw count of AGEGRP of customers with organics purchased\n",
      "ORGYN  AGEGRP2\n",
      "0      50-60      4435\n",
      "       60-70      3951\n",
      "       40-50      3375\n",
      "       70-80      2451\n",
      "       30-40      1200\n",
      "       20-30       188\n",
      "       10-20        15\n",
      "1      30-40      1759\n",
      "       40-50      1145\n",
      "       50-60       779\n",
      "       60-70       688\n",
      "       70-80       441\n",
      "       20-30       288\n",
      "Name: AGEGRP2, dtype: int64\n",
      "------------------\n",
      "Normalised count (percentage) of AGEGRP of customers with organics purchased\n",
      "ORGYN  AGEGRP2\n",
      "0      50-60      0.284022\n",
      "       60-70      0.253026\n",
      "       40-50      0.216138\n",
      "       70-80      0.156964\n",
      "       30-40      0.076849\n",
      "       20-30      0.012040\n",
      "       10-20      0.000961\n",
      "1      30-40      0.344902\n",
      "       40-50      0.224510\n",
      "       50-60      0.152745\n",
      "       60-70      0.134902\n",
      "       70-80      0.086471\n",
      "       20-30      0.056471\n",
      "Name: AGEGRP2, dtype: float64\n"
     ]
    }
   ],
   "source": [
    "print(\"Raw count of AGEGRP of customers with organics purchased\")\n",
    "print(df.groupby(['ORGYN'])['AGEGRP2'].value_counts())\n",
    "\n",
    "print(\"------------------\")\n",
    "\n",
    "# add normalisation to get the relative frequency\n",
    "print(\"Normalised count (percentage) of AGEGRP of customers with organics purchased\")\n",
    "print(df.groupby(['ORGYN'])['AGEGRP2'].value_counts(normalize=True))\n"
   ]
  },
  {
   "cell_type": "code",
   "execution_count": 16,
   "metadata": {},
   "outputs": [
    {
     "name": "stdout",
     "output_type": "stream",
     "text": [
      "Raw count of NGROUP of customers with organics purchased\n",
      "ORGYN  AGEGRP2  GENDER  NGROUP\n",
      "0      10-20    F       C           3\n",
      "                        A           2\n",
      "                        B           1\n",
      "                        D           1\n",
      "                        F           1\n",
      "                M       B           1\n",
      "                        C           1\n",
      "                U       C           1\n",
      "       20-30    F       F          23\n",
      "                        C          18\n",
      "                        D          18\n",
      "                        E          10\n",
      "                        B           6\n",
      "                        A           5\n",
      "                M       F          18\n",
      "                        C          12\n",
      "                        D          11\n",
      "                        B           8\n",
      "                        E           6\n",
      "                        A           1\n",
      "                U       F           7\n",
      "                        D           4\n",
      "                        B           3\n",
      "                        E           3\n",
      "                        A           2\n",
      "                        C           2\n",
      "       30-40    F       F         155\n",
      "                        C         117\n",
      "                        D         110\n",
      "                        E          81\n",
      "                                 ... \n",
      "1      60-70    M       B          26\n",
      "                        C          26\n",
      "                        D          16\n",
      "                        E          16\n",
      "                        A          15\n",
      "                        F          14\n",
      "                U       D           4\n",
      "                        A           3\n",
      "                        B           3\n",
      "                        C           3\n",
      "                        E           2\n",
      "                        F           1\n",
      "       70-80    F       C          78\n",
      "                        B          73\n",
      "                        D          51\n",
      "                        E          40\n",
      "                        F          38\n",
      "                        A          27\n",
      "                        U           2\n",
      "                M       B          21\n",
      "                        C          18\n",
      "                        F          15\n",
      "                        A          12\n",
      "                        E          12\n",
      "                        D           9\n",
      "                U       B           4\n",
      "                        C           3\n",
      "                        A           2\n",
      "                        E           2\n",
      "                        D           1\n",
      "Name: NGROUP, Length: 233, dtype: int64\n",
      "------------------\n",
      "Normalised count (percentage) of NGROUP of customers with organics purchased\n",
      "ORGYN  AGEGRP2  GENDER  NGROUP\n",
      "0      10-20    F       C         0.375000\n",
      "                        A         0.250000\n",
      "                        B         0.125000\n",
      "                        D         0.125000\n",
      "                        F         0.125000\n",
      "                M       B         0.500000\n",
      "                        C         0.500000\n",
      "                U       C         1.000000\n",
      "       20-30    F       F         0.287500\n",
      "                        C         0.225000\n",
      "                        D         0.225000\n",
      "                        E         0.125000\n",
      "                        B         0.075000\n",
      "                        A         0.062500\n",
      "                M       F         0.321429\n",
      "                        C         0.214286\n",
      "                        D         0.196429\n",
      "                        B         0.142857\n",
      "                        E         0.107143\n",
      "                        A         0.017857\n",
      "                U       F         0.333333\n",
      "                        D         0.190476\n",
      "                        B         0.142857\n",
      "                        E         0.142857\n",
      "                        A         0.095238\n",
      "                        C         0.095238\n",
      "       30-40    F       F         0.278777\n",
      "                        C         0.210432\n",
      "                        D         0.197842\n",
      "                        E         0.145683\n",
      "                                    ...   \n",
      "1      60-70    M       B         0.230088\n",
      "                        C         0.230088\n",
      "                        D         0.141593\n",
      "                        E         0.141593\n",
      "                        A         0.132743\n",
      "                        F         0.123894\n",
      "                U       D         0.250000\n",
      "                        A         0.187500\n",
      "                        B         0.187500\n",
      "                        C         0.187500\n",
      "                        E         0.125000\n",
      "                        F         0.062500\n",
      "       70-80    F       C         0.252427\n",
      "                        B         0.236246\n",
      "                        D         0.165049\n",
      "                        E         0.129450\n",
      "                        F         0.122977\n",
      "                        A         0.087379\n",
      "                        U         0.006472\n",
      "                M       B         0.241379\n",
      "                        C         0.206897\n",
      "                        F         0.172414\n",
      "                        A         0.137931\n",
      "                        E         0.137931\n",
      "                        D         0.103448\n",
      "                U       B         0.333333\n",
      "                        C         0.250000\n",
      "                        A         0.166667\n",
      "                        E         0.166667\n",
      "                        D         0.083333\n",
      "Name: NGROUP, Length: 233, dtype: float64\n"
     ]
    }
   ],
   "source": [
    "print(\"Raw count of NGROUP of customers with organics purchased\")\n",
    "print(df.groupby(['ORGYN','AGEGRP2','GENDER'])['NGROUP'].value_counts())\n",
    "\n",
    "print(\"------------------\")\n",
    "\n",
    "# add normalisation to get the relative frequency\n",
    "print(\"Normalised count (percentage) of NGROUP of customers with organics purchased\")\n",
    "print(df.groupby(['ORGYN','AGEGRP2','GENDER'])['NGROUP'].value_counts(normalize=True))\n"
   ]
  },
  {
   "cell_type": "code",
   "execution_count": 17,
   "metadata": {},
   "outputs": [
    {
     "name": "stdout",
     "output_type": "stream",
     "text": [
      "Raw count of CLASS of customers with organics purchased\n",
      "ORGANICS  ORGYN  CLASS   \n",
      "0         0      Silver      6460\n",
      "                 Gold        5088\n",
      "                 Tin         4458\n",
      "                 Platinum     712\n",
      "1         1      Silver      1778\n",
      "                 Tin         1659\n",
      "                 Gold        1068\n",
      "                 Platinum     120\n",
      "2         1      Tin          299\n",
      "                 Silver       264\n",
      "                 Gold         145\n",
      "                 Platinum       7\n",
      "3         1      Tin           71\n",
      "                 Silver        70\n",
      "                 Gold          23\n",
      "                 Platinum       1\n",
      "Name: CLASS, dtype: int64\n",
      "------------------\n",
      "Normalised count (percentage) of CLASS of customers with organics purchased\n",
      "ORGANICS  ORGYN  CLASS   \n",
      "0         0      Silver      0.386410\n",
      "                 Gold        0.304343\n",
      "                 Tin         0.266659\n",
      "                 Platinum    0.042589\n",
      "1         1      Silver      0.384432\n",
      "                 Tin         0.358703\n",
      "                 Gold        0.230919\n",
      "                 Platinum    0.025946\n",
      "2         1      Tin         0.418182\n",
      "                 Silver      0.369231\n",
      "                 Gold        0.202797\n",
      "                 Platinum    0.009790\n",
      "3         1      Tin         0.430303\n",
      "                 Silver      0.424242\n",
      "                 Gold        0.139394\n",
      "                 Platinum    0.006061\n",
      "Name: CLASS, dtype: float64\n"
     ]
    }
   ],
   "source": [
    "print(\"Raw count of CLASS of customers with organics purchased\")\n",
    "print(df.groupby(['ORGANICS','ORGYN'])['CLASS'].value_counts())\n",
    "\n",
    "print(\"------------------\")\n",
    "\n",
    "# add normalisation to get the relative frequency\n",
    "print(\"Normalised count (percentage) of CLASS of customers with organics purchased\")\n",
    "print(df.groupby(['ORGANICS','ORGYN'])['CLASS'].value_counts(normalize=True))"
   ]
  },
  {
   "cell_type": "code",
   "execution_count": 18,
   "metadata": {},
   "outputs": [
    {
     "name": "stdout",
     "output_type": "stream",
     "text": [
      "Raw count of REGION of customers with organics purchased\n",
      "ORGYN  REGION    \n",
      "0      South East    6450\n",
      "       Midlands      5034\n",
      "       North         3312\n",
      "       Scottish      1044\n",
      "       South West     532\n",
      "1      South East    2184\n",
      "       Midlands      1707\n",
      "       North         1012\n",
      "       Scottish       324\n",
      "       South West     159\n",
      "Name: REGION, dtype: int64\n",
      "------------------\n",
      "Normalised count (percentage) of REGION of customers with organics purchased\n",
      "ORGYN  REGION    \n",
      "0      South East    0.393965\n",
      "       Midlands      0.307476\n",
      "       North         0.202297\n",
      "       Scottish      0.063767\n",
      "       South West    0.032495\n",
      "1      South East    0.405496\n",
      "       Midlands      0.316933\n",
      "       North         0.187895\n",
      "       Scottish      0.060156\n",
      "       South West    0.029521\n",
      "Name: REGION, dtype: float64\n"
     ]
    }
   ],
   "source": [
    "print(\"Raw count of REGION of customers with organics purchased\")\n",
    "print(df.groupby(['ORGYN'])['REGION'].value_counts())\n",
    "\n",
    "print(\"------------------\")\n",
    "\n",
    "# add normalisation to get the relative frequency\n",
    "print(\"Normalised count (percentage) of REGION of customers with organics purchased\")\n",
    "print(df.groupby(['ORGYN'])['REGION'].value_counts(normalize=True))"
   ]
  },
  {
   "cell_type": "code",
   "execution_count": 19,
   "metadata": {},
   "outputs": [
    {
     "name": "stdout",
     "output_type": "stream",
     "text": [
      "Raw count of Neighborhood type of customers with organics purchased\n",
      "ORGYN  NEIGHBORHOOD\n",
      "0      52.0            859\n",
      "       27.0            693\n",
      "       4.0             681\n",
      "       12.0            642\n",
      "       8.0             565\n",
      "       28.0            557\n",
      "       51.0            556\n",
      "       19.0            525\n",
      "       35.0            500\n",
      "       32.0            497\n",
      "       25.0            469\n",
      "       14.0            468\n",
      "       10.0            444\n",
      "       38.0            440\n",
      "       53.0            431\n",
      "       37.0            420\n",
      "       24.0            393\n",
      "       22.0            380\n",
      "       44.0            354\n",
      "       16.0            346\n",
      "       34.0            341\n",
      "       23.0            331\n",
      "       1.0             302\n",
      "       41.0            302\n",
      "       18.0            283\n",
      "       2.0             271\n",
      "       17.0            262\n",
      "       49.0            261\n",
      "       6.0             256\n",
      "       47.0            248\n",
      "                      ... \n",
      "1      41.0             88\n",
      "       17.0             85\n",
      "       18.0             82\n",
      "       49.0             79\n",
      "       1.0              73\n",
      "       2.0              73\n",
      "       33.0             70\n",
      "       9.0              69\n",
      "       48.0             69\n",
      "       30.0             67\n",
      "       6.0              63\n",
      "       31.0             63\n",
      "       20.0             61\n",
      "       3.0              53\n",
      "       5.0              51\n",
      "       15.0             47\n",
      "       26.0             46\n",
      "       29.0             46\n",
      "       45.0             37\n",
      "       11.0             34\n",
      "       40.0             32\n",
      "       46.0             31\n",
      "       13.0             29\n",
      "       42.0             29\n",
      "       7.0              26\n",
      "       43.0             20\n",
      "       39.0             19\n",
      "       55.0             19\n",
      "       36.0             15\n",
      "       54.0             13\n",
      "Name: NEIGHBORHOOD, Length: 110, dtype: int64\n",
      "------------------\n",
      "Normalised count (percentage) of Neighborhood type of customers with organics purchased\n",
      "ORGYN  NEIGHBORHOOD\n",
      "0      52.0            0.052930\n",
      "       27.0            0.042701\n",
      "       4.0             0.041962\n",
      "       12.0            0.039559\n",
      "       8.0             0.034814\n",
      "       28.0            0.034321\n",
      "       51.0            0.034260\n",
      "       19.0            0.032349\n",
      "       35.0            0.030809\n",
      "       32.0            0.030624\n",
      "       25.0            0.028899\n",
      "       14.0            0.028837\n",
      "       10.0            0.027358\n",
      "       38.0            0.027112\n",
      "       53.0            0.026557\n",
      "       37.0            0.025880\n",
      "       24.0            0.024216\n",
      "       22.0            0.023415\n",
      "       44.0            0.021813\n",
      "       16.0            0.021320\n",
      "       34.0            0.021012\n",
      "       23.0            0.020396\n",
      "       1.0             0.018609\n",
      "       41.0            0.018609\n",
      "       18.0            0.017438\n",
      "       2.0             0.016699\n",
      "       17.0            0.016144\n",
      "       49.0            0.016082\n",
      "       6.0             0.015774\n",
      "       47.0            0.015281\n",
      "                         ...   \n",
      "1      41.0            0.016541\n",
      "       17.0            0.015977\n",
      "       18.0            0.015414\n",
      "       49.0            0.014850\n",
      "       1.0             0.013722\n",
      "       2.0             0.013722\n",
      "       33.0            0.013158\n",
      "       9.0             0.012970\n",
      "       48.0            0.012970\n",
      "       30.0            0.012594\n",
      "       6.0             0.011842\n",
      "       31.0            0.011842\n",
      "       20.0            0.011466\n",
      "       3.0             0.009962\n",
      "       5.0             0.009586\n",
      "       15.0            0.008835\n",
      "       26.0            0.008647\n",
      "       29.0            0.008647\n",
      "       45.0            0.006955\n",
      "       11.0            0.006391\n",
      "       40.0            0.006015\n",
      "       46.0            0.005827\n",
      "       13.0            0.005451\n",
      "       42.0            0.005451\n",
      "       7.0             0.004887\n",
      "       43.0            0.003759\n",
      "       39.0            0.003571\n",
      "       55.0            0.003571\n",
      "       36.0            0.002820\n",
      "       54.0            0.002444\n",
      "Name: NEIGHBORHOOD, Length: 110, dtype: float64\n"
     ]
    }
   ],
   "source": [
    "#### NEIGHBORHOOD variable is quite useless #####\n",
    "\n",
    "print(\"Raw count of Neighborhood type of customers with organics purchased\")\n",
    "print(df.groupby(['ORGYN'])['NEIGHBORHOOD'].value_counts())\n",
    "\n",
    "print(\"------------------\")\n",
    "\n",
    "# add normalisation to get the relative frequency\n",
    "print(\"Normalised count (percentage) of Neighborhood type of customers with organics purchased\")\n",
    "print(df.groupby(['ORGYN'])['NEIGHBORHOOD'].value_counts(normalize=True))\n"
   ]
  },
  {
   "cell_type": "markdown",
   "metadata": {},
   "source": [
    "## 3. Did you have to fix any data quality problems? Detail them.\n"
   ]
  },
  {
   "cell_type": "code",
   "execution_count": 50,
   "metadata": {},
   "outputs": [
    {
     "name": "stdout",
     "output_type": "stream",
     "text": [
      "                 ----------------------------------------\n",
      "                | Number of missing value for each column |\n",
      "                 ----------------------------------------\n"
     ]
    },
    {
     "data": {
      "text/plain": [
       "GENDER      0\n",
       "AGEGRP1     0\n",
       "AGEGRP2     0\n",
       "NGROUP      0\n",
       "ORGANICS    0\n",
       "REGION      0\n",
       "CLASS       0\n",
       "ORGYN       0\n",
       "AFFL        0\n",
       "LTIME       0\n",
       "dtype: int64"
      ]
     },
     "execution_count": 50,
     "metadata": {},
     "output_type": "execute_result"
    }
   ],
   "source": [
    "#### Impute, remove, Flag #####\n",
    "#### These are the 3 steps in dealing with missing value ####\n",
    "\n",
    "print (\"                 ----------------------------------------\")\n",
    "print (\"                | Number of missing value for each column |\")\n",
    "print (\"                 ----------------------------------------\")\n",
    "22223 - (np.logical_not(df.isnull()).sum())\n"
   ]
  },
  {
   "cell_type": "code",
   "execution_count": 21,
   "metadata": {},
   "outputs": [],
   "source": [
    "##### Convert EDATE and DOB to Date-Time Format#####\n",
    "\n",
    "from datetime import datetime\n",
    "df['DOB']=df['DOB'].apply(lambda x:datetime.strptime(x,\"%Y-%m-%d\"))"
   ]
  },
  {
   "cell_type": "code",
   "execution_count": 22,
   "metadata": {},
   "outputs": [],
   "source": [
    "df['EDATE']=df['EDATE'].apply(lambda y:datetime.strptime(y,\"%Y-%m-%d\"))"
   ]
  },
  {
   "cell_type": "code",
   "execution_count": 23,
   "metadata": {},
   "outputs": [],
   "source": [
    "from datetime import date\n",
    "today = date.today()\n",
    "df['AGE'] = date.today() - df['DOB']\n",
    "df['AGE'] = (df['AGE']/365.25)"
   ]
  },
  {
   "cell_type": "code",
   "execution_count": 24,
   "metadata": {
    "scrolled": true
   },
   "outputs": [],
   "source": [
    "######## Extract days from AGE (timedelta format) #######\n",
    "df['AGE'] = df['AGE'].dt.days"
   ]
  },
  {
   "cell_type": "code",
   "execution_count": 25,
   "metadata": {},
   "outputs": [],
   "source": [
    "###### Convert AGE into INT #######\n",
    "df['AGE'] = df['AGE'].astype(int)"
   ]
  },
  {
   "cell_type": "code",
   "execution_count": 26,
   "metadata": {},
   "outputs": [],
   "source": [
    "###### Minus age with 20 to get the actual age #####\n",
    "df['AGE'] = df['AGE'] - 20"
   ]
  },
  {
   "cell_type": "code",
   "execution_count": 28,
   "metadata": {},
   "outputs": [
    {
     "name": "stdout",
     "output_type": "stream",
     "text": [
      "   CUSTID GENDER        DOB      EDATE  AGE AGEGRP1 AGEGRP2        TV_REG  \\\n",
      "0     140      U 1921-09-16 1998-02-23   76   60-80   70-80  Wales & West   \n",
      "1     620      U 1949-02-12 1998-02-23   49   40-60   40-50  Wales & West   \n",
      "2     868      F 1927-11-27 1998-02-23   70   60-80   70-80  Wales & West   \n",
      "3    1120      M 1932-04-10 1998-02-23   65   60-80   60-70      Midlands   \n",
      "4    2313      F 1929-05-21 1998-02-23   68   60-80   60-70      Midlands   \n",
      "\n",
      "  NGROUP  NEIGHBORHOOD      LCDATE  ORGANICS      BILL    REGION   CLASS  \\\n",
      "0      C          16.0  1994-11-07         0  16000.00  Midlands    Gold   \n",
      "1      D          35.0  1993-06-04         0   6000.00  Midlands    Gold   \n",
      "2      D          27.0  1990-08-02         1      0.02  Midlands  Silver   \n",
      "3      F          51.0  1991-07-01         1      0.01  Midlands     Tin   \n",
      "4      A           4.0  1990-03-01         0      0.01  Midlands     Tin   \n",
      "\n",
      "   ORGYN  AFFL  LTIME  \n",
      "0      0  10.0    4.0  \n",
      "1      0   4.0    5.0  \n",
      "2      1   5.0    8.0  \n",
      "3      1  10.0    7.0  \n",
      "4      0  11.0    8.0  \n"
     ]
    }
   ],
   "source": [
    "print(df.head())"
   ]
  },
  {
   "cell_type": "code",
   "execution_count": 29,
   "metadata": {},
   "outputs": [
    {
     "data": {
      "text/plain": [
       "18"
      ]
     },
     "execution_count": 29,
     "metadata": {},
     "output_type": "execute_result"
    }
   ],
   "source": [
    "df['AGE'].min()\n",
    "#df['AGE'].max()"
   ]
  },
  {
   "cell_type": "code",
   "execution_count": 30,
   "metadata": {},
   "outputs": [],
   "source": [
    "##### Filled up AGEGRP1 and AGEGRP2 ######\n",
    "import numpy as np\n",
    "\n",
    "condlist = [df['AGE']<=20, df['AGE']<=40, df['AGE']<=60, df['AGE']<=80]\n",
    "choicelist = ['<20','20-40','40-60','60-80']\n",
    "df['AGEGRP1'] = np.select(condlist, choicelist)"
   ]
  },
  {
   "cell_type": "code",
   "execution_count": 31,
   "metadata": {
    "scrolled": true
   },
   "outputs": [],
   "source": [
    "condlist1 = [df['AGE']<=20, df['AGE']<=30, df['AGE']<=40, df['AGE']<=50, df['AGE']<=60, df['AGE']<=70, df['AGE']<=80]\n",
    "choicelist1 = ['10-20','20-30','30-40','40-50','50-60','60-70','70-80']\n",
    "df['AGEGRP2'] = np.select(condlist1, choicelist1)"
   ]
  },
  {
   "cell_type": "code",
   "execution_count": 32,
   "metadata": {
    "scrolled": false
   },
   "outputs": [],
   "source": [
    "###### Filled up missing value in GENDER #####\n",
    "df['GENDER'].fillna('U',inplace = True)"
   ]
  },
  {
   "cell_type": "code",
   "execution_count": 39,
   "metadata": {},
   "outputs": [],
   "source": [
    "##### Impute LTIME with mean #######\n",
    "\n",
    "df['LTIME'].fillna(df['LTIME'].mean(), inplace=True)"
   ]
  },
  {
   "cell_type": "code",
   "execution_count": 42,
   "metadata": {},
   "outputs": [],
   "source": [
    "##### Impute AFFL with median/mean (both have a close similar value) ######\n",
    "\n",
    "df['AFFL'].fillna(df['AFFL'].median(), inplace=True)"
   ]
  },
  {
   "cell_type": "code",
   "execution_count": 44,
   "metadata": {},
   "outputs": [],
   "source": [
    "##### Impute REGION with 'UNKNOWN' ######\n",
    "df['REGION'].fillna('Unknown',inplace = True)"
   ]
  },
  {
   "cell_type": "code",
   "execution_count": 46,
   "metadata": {},
   "outputs": [],
   "source": [
    "##### Impute NGROUP with 'UNKNOWN' ######\n",
    "df['NGROUP'].fillna('Unknown',inplace = True)"
   ]
  },
  {
   "cell_type": "code",
   "execution_count": null,
   "metadata": {},
   "outputs": [],
   "source": [
    "\n"
   ]
  },
  {
   "cell_type": "markdown",
   "metadata": {},
   "source": [
    "# 4. What variables did you include in the analysis and what were their roles and measurement level set? Justify your choice."
   ]
  },
  {
   "cell_type": "code",
   "execution_count": 49,
   "metadata": {},
   "outputs": [],
   "source": [
    "###### Drop variables that are not needed ######\n",
    "\n",
    "df.drop(['DOB', 'EDATE','LCDATE','AGE','CUSTID','NEIGHBORHOOD', 'TV_REG','BILL'], axis=1, inplace=True)"
   ]
  },
  {
   "cell_type": "code",
   "execution_count": 35,
   "metadata": {},
   "outputs": [],
   "source": [
    "### Remove variables ###\n",
    "# 1. DOB\n",
    "# 2. EDATE\n",
    "# 3. LCDATE\n",
    "# 4. AGE\n",
    "# 5. CUSTID\n",
    "# 6. Neighborhood\n",
    "# 7. TV_reg\n",
    "# 8. BILL (Represented by CLASS)\n",
    "\n",
    "\n"
   ]
  },
  {
   "cell_type": "markdown",
   "metadata": {},
   "source": [
    "# 5. What distribution scheme did you use? What data partitioning allocation did you set? Explain your selection."
   ]
  },
  {
   "cell_type": "code",
   "execution_count": null,
   "metadata": {},
   "outputs": [],
   "source": []
  }
 ],
 "metadata": {
  "kernelspec": {
   "display_name": "Python 3",
   "language": "python",
   "name": "python3"
  },
  "language_info": {
   "codemirror_mode": {
    "name": "ipython",
    "version": 3
   },
   "file_extension": ".py",
   "mimetype": "text/x-python",
   "name": "python",
   "nbconvert_exporter": "python",
   "pygments_lexer": "ipython3",
   "version": "3.6.4"
  }
 },
 "nbformat": 4,
 "nbformat_minor": 2
}
