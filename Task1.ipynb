{
 "cells": [
  {
   "cell_type": "code",
   "execution_count": 1,
   "metadata": {},
   "outputs": [],
   "source": [
    "import pandas as pd\n",
    "df = pd.read_csv('dataset/organics.csv')"
   ]
  },
  {
   "cell_type": "code",
   "execution_count": 4,
   "metadata": {},
   "outputs": [
    {
     "name": "stdout",
     "output_type": "stream",
     "text": [
      "<class 'pandas.core.frame.DataFrame'>\n",
      "RangeIndex: 22223 entries, 0 to 22222\n",
      "Data columns (total 17 columns):\n",
      "CUSTID          22223 non-null int64\n",
      "GENDER          19711 non-null object\n",
      "DOB             22223 non-null object\n",
      "EDATE           22223 non-null object\n",
      "AGE             20715 non-null float64\n",
      "AGEGRP1         20715 non-null object\n",
      "AGEGRP2         20715 non-null object\n",
      "NGROUP          21549 non-null object\n",
      "NEIGHBORHOOD    21549 non-null float64\n",
      "LCDATE          21942 non-null object\n",
      "ORGANICS        22223 non-null int64\n",
      "BILL            22223 non-null float64\n",
      "REGION          21758 non-null object\n",
      "CLASS           22223 non-null object\n",
      "ORGYN           22223 non-null int64\n",
      "AFFL            21138 non-null float64\n",
      "LTIME           21942 non-null float64\n",
      "dtypes: float64(5), int64(3), object(9)\n",
      "memory usage: 2.9+ MB\n",
      "None\n"
     ]
    }
   ],
   "source": [
    "print(df.info())"
   ]
  },
  {
   "cell_type": "code",
   "execution_count": 3,
   "metadata": {},
   "outputs": [
    {
     "name": "stdout",
     "output_type": "stream",
     "text": [
      "   CUSTID GENDER         DOB       EDATE   AGE AGEGRP1 AGEGRP2        TV_REG  \\\n",
      "0     140      U  1921-09-16  1998-02-23  76.0   60-80   70-80  Wales & West   \n",
      "1     620      U  1949-02-12  1998-02-23  49.0   40-60   40-50  Wales & West   \n",
      "2     868      F  1927-11-27  1998-02-23  70.0   60-80   70-80  Wales & West   \n",
      "3    1120      M  1932-04-10  1998-02-23  65.0   60-80   60-70      Midlands   \n",
      "4    2313      F  1929-05-21  1998-02-23  68.0   60-80   60-70      Midlands   \n",
      "\n",
      "  NGROUP  NEIGHBORHOOD      LCDATE  ORGANICS      BILL    REGION   CLASS  \\\n",
      "0      C          16.0  1994-11-07         0  16000.00  Midlands    Gold   \n",
      "1      D          35.0  1993-06-04         0   6000.00  Midlands    Gold   \n",
      "2      D          27.0  1990-08-02         1      0.02  Midlands  Silver   \n",
      "3      F          51.0  1991-07-01         1      0.01  Midlands     Tin   \n",
      "4      A           4.0  1990-03-01         0      0.01  Midlands     Tin   \n",
      "\n",
      "   ORGYN  AFFL  LTIME  \n",
      "0      0  10.0    4.0  \n",
      "1      0   4.0    5.0  \n",
      "2      1   5.0    8.0  \n",
      "3      1  10.0    7.0  \n",
      "4      0  11.0    8.0  \n"
     ]
    }
   ],
   "source": [
    "print(df.head())"
   ]
  },
  {
   "cell_type": "markdown",
   "metadata": {},
   "source": [
    "# 1. Can you identify any clear patterns by initial exploration of the data using histogram or box plot?"
   ]
  },
  {
   "cell_type": "code",
   "execution_count": null,
   "metadata": {},
   "outputs": [],
   "source": []
  },
  {
   "cell_type": "code",
   "execution_count": 8,
   "metadata": {},
   "outputs": [],
   "source": [
    "import matplotlib.pyplot as plt\n",
    "import seaborn as sns"
   ]
  },
  {
   "cell_type": "code",
   "execution_count": 9,
   "metadata": {},
   "outputs": [
    {
     "name": "stdout",
     "output_type": "stream",
     "text": [
      "ORGYN\n",
      "0    56.080435\n",
      "1    46.806275\n",
      "Name: AGE, dtype: float64\n"
     ]
    }
   ],
   "source": [
    "# get the average age of donors, grouped by their lapsing information\n",
    "print(df.groupby(['ORGYN'])['AGE'].mean())"
   ]
  },
  {
   "cell_type": "code",
   "execution_count": 10,
   "metadata": {
    "scrolled": true
   },
   "outputs": [
    {
     "data": {
      "image/png": "[encoded data removed]",
      "text/plain": [
       "<matplotlib.figure.Figure at 0x14f03b24978>"
      ]
     },
     "metadata": {},
     "output_type": "display_data"
    }
   ],
   "source": [
    "# dropna is used because 'AGE' has missing values\n",
    "dg = sns.distplot(df['AGE'].dropna())\n",
    "plt.show()"
   ]
  },
  {
   "cell_type": "markdown",
   "metadata": {},
   "source": [
    "From the plot above, we can see most organic product buyers are between 40 to 80 years old."
   ]
  },
  {
   "cell_type": "code",
   "execution_count": 11,
   "metadata": {},
   "outputs": [
    {
     "name": "stdout",
     "output_type": "stream",
     "text": [
      "Raw count of genders of organics purchased or not\n",
      "ORGYN  GENDER\n",
      "0      F         7944\n",
      "       M         4849\n",
      "       U         1642\n",
      "1      F         4205\n",
      "       M          966\n",
      "       U          105\n",
      "Name: GENDER, dtype: int64\n",
      "------------------\n",
      "Normalised count (percentage) of genders of organics purchased or not\n",
      "ORGYN  GENDER\n",
      "0      F         0.550329\n",
      "       M         0.335920\n",
      "       U         0.113751\n",
      "1      F         0.797005\n",
      "       M         0.183093\n",
      "       U         0.019901\n",
      "Name: GENDER, dtype: float64\n"
     ]
    }
   ],
   "source": [
    "# get the value count of each gender\n",
    "print(\"Raw count of genders of organics purchased or not\")\n",
    "print(df.groupby(['ORGYN'])['GENDER'].value_counts())\n",
    "\n",
    "print(\"------------------\")\n",
    "\n",
    "# add normalisation to get the relative frequency\n",
    "print(\"Normalised count (percentage) of genders of organics purchased or not\")\n",
    "print(df.groupby(['ORGYN'])['GENDER'].value_counts(normalize=True))"
   ]
  },
  {
   "cell_type": "code",
   "execution_count": 12,
   "metadata": {},
   "outputs": [],
   "source": [
    "import matplotlib.pyplot as plt\n",
    "import seaborn as sns"
   ]
  },
  {
   "cell_type": "code",
   "execution_count": 13,
   "metadata": {},
   "outputs": [
    {
     "data": {
      "image/png": "[encoded data removed]",
      "text/plain": [
       "<matplotlib.figure.Figure at 0x14f015472e8>"
      ]
     },
     "metadata": {},
     "output_type": "display_data"
    }
   ],
   "source": [
    "dg = sns.countplot(data=df, x='GENDER')\n",
    "plt.show()"
   ]
  },
  {
   "cell_type": "markdown",
   "metadata": {},
   "source": [
    "From the bar chart above, we can see most organic product buyers are females."
   ]
  },
  {
   "cell_type": "code",
   "execution_count": 14,
   "metadata": {},
   "outputs": [
    {
     "name": "stdout",
     "output_type": "stream",
     "text": [
      "ORGYN\n",
      "0    4767.247335\n",
      "1    3367.834975\n",
      "Name: BILL, dtype: float64\n"
     ]
    }
   ],
   "source": [
    "print(df.groupby(['ORGYN'])['BILL'].mean())"
   ]
  },
  {
   "cell_type": "code",
   "execution_count": 15,
   "metadata": {},
   "outputs": [
    {
     "name": "stdout",
     "output_type": "stream",
     "text": [
      "ORGYN\n",
      "0    4767.247335\n",
      "1    3367.834975\n",
      "Name: BILL, dtype: float64\n"
     ]
    }
   ],
   "source": [
    "print(df.groupby(['ORGYN'])['BILL'].mean())"
   ]
  },
  {
   "cell_type": "code",
   "execution_count": 16,
   "metadata": {},
   "outputs": [
    {
     "data": {
      "image/png": "[encoded data removed]",
      "text/plain": [
       "<matplotlib.figure.Figure at 0x14f03f502e8>"
      ]
     },
     "metadata": {},
     "output_type": "display_data"
    }
   ],
   "source": [
    "ax = sns.boxplot(x=\"ORGANICS\", y=\"AFFL\", data=df)\n",
    "plt.show()"
   ]
  },
  {
   "cell_type": "markdown",
   "metadata": {},
   "source": [
    "The more affluent the customers are, the more organics they purchase."
   ]
  },
  {
   "cell_type": "markdown",
   "metadata": {},
   "source": [
    "# 2. What is the proportion of individuals who purchased organic products?"
   ]
  },
  {
   "cell_type": "code",
   "execution_count": 15,
   "metadata": {},
   "outputs": [
    {
     "name": "stdout",
     "output_type": "stream",
     "text": [
      "0    0.752284\n",
      "1    0.247716\n",
      "Name: ORGYN, dtype: float64\n"
     ]
    }
   ],
   "source": [
    "print(df['ORGYN'].value_counts(normalize=True))"
   ]
  },
  {
   "cell_type": "markdown",
   "metadata": {},
   "source": [
    "# 3. Did you have to fix any data quality problems? Detail them.\n",
    "\n",
    "- GENDER (Some data missing, use the most frequent)\n",
    "- AGE (Some missing, have to calculate by EDATE-DOB)\n",
    "- TV_REG (Not written in the same standard, not useful)\n",
    "- AFFL"
   ]
  },
  {
   "cell_type": "code",
   "execution_count": 9,
   "metadata": {},
   "outputs": [
    {
     "data": {
      "text/plain": [
       "datetime.timedelta(17908)"
      ]
     },
     "execution_count": 9,
     "metadata": {},
     "output_type": "execute_result"
    }
   ],
   "source": [
    "from datetime import datetime\n",
    "\n",
    "from datetime import timedelta\n",
    "\n",
    "date1 = df['EDATE']\n",
    "\n",
    "datetime1 = [datetime.strptime(x,'%Y-%m-%d') for x in date1]\n",
    "\n",
    "\n",
    "date2 = df['DOB']\n",
    "\n",
    "datetime2 = [datetime.strptime(x,'%Y-%m-%d') for x in date2]\n",
    "\n",
    "timespan = datetime1[1] - datetime2[1]\n",
    "timespan"
   ]
  },
  {
   "cell_type": "code",
   "execution_count": 11,
   "metadata": {},
   "outputs": [
    {
     "data": {
      "text/plain": [
       "0       27919 days\n",
       "1       17908 days\n",
       "2       25656 days\n",
       "3       24060 days\n",
       "4       25115 days\n",
       "5       26305 days\n",
       "6       27168 days\n",
       "7       22728 days\n",
       "8       22633 days\n",
       "9       15858 days\n",
       "10      22195 days\n",
       "11      20143 days\n",
       "12      18844 days\n",
       "13      23434 days\n",
       "14      13537 days\n",
       "15      20020 days\n",
       "16      25766 days\n",
       "17      15681 days\n",
       "18      11408 days\n",
       "19      18148 days\n",
       "20      24374 days\n",
       "21      27365 days\n",
       "22      25629 days\n",
       "23      24233 days\n",
       "24      16904 days\n",
       "25      14523 days\n",
       "26      27659 days\n",
       "27      26499 days\n",
       "28      15737 days\n",
       "29      22688 days\n",
       "           ...    \n",
       "22193   27986 days\n",
       "22194   14580 days\n",
       "22195   23927 days\n",
       "22196   14296 days\n",
       "22197   26278 days\n",
       "22198   12257 days\n",
       "22199   17716 days\n",
       "22200   18733 days\n",
       "22201   22025 days\n",
       "22202   24056 days\n",
       "22203   11921 days\n",
       "22204   25409 days\n",
       "22205   12797 days\n",
       "22206   11367 days\n",
       "22207   15165 days\n",
       "22208   12395 days\n",
       "22209   15140 days\n",
       "22210   22965 days\n",
       "22211   11208 days\n",
       "22212   19922 days\n",
       "22213   15867 days\n",
       "22214   15458 days\n",
       "22215   12521 days\n",
       "22216   18165 days\n",
       "22217   12303 days\n",
       "22218   24021 days\n",
       "22219   26999 days\n",
       "22220   25809 days\n",
       "22221   24165 days\n",
       "22222   27483 days\n",
       "Name: AGE, Length: 22223, dtype: timedelta64[ns]"
      ]
     },
     "execution_count": 11,
     "metadata": {},
     "output_type": "execute_result"
    }
   ],
   "source": [
    "df['AGE'] = pd.to_datetime(df['EDATE']) - pd.to_datetime(df['DOB'])\n",
    "df['AGE']"
   ]
  },
  {
   "cell_type": "code",
   "execution_count": 6,
   "metadata": {},
   "outputs": [
    {
     "data": {
      "text/plain": [
       "21758"
      ]
     },
     "execution_count": 6,
     "metadata": {},
     "output_type": "execute_result"
    }
   ],
   "source": [
    "len(df['NEIGHBORHOOD'])"
   ]
  },
  {
   "cell_type": "code",
   "execution_count": 24,
   "metadata": {},
   "outputs": [
    {
     "data": {
      "text/plain": [
       "0          Midlands\n",
       "1          Midlands\n",
       "2          Midlands\n",
       "3          Midlands\n",
       "4          Midlands\n",
       "5             North\n",
       "6          Midlands\n",
       "7             North\n",
       "8          Midlands\n",
       "9               NaN\n",
       "10            North\n",
       "11       South East\n",
       "12         Midlands\n",
       "13       South East\n",
       "14       South East\n",
       "15         Midlands\n",
       "16         Midlands\n",
       "17         Midlands\n",
       "18         Scottish\n",
       "19       South East\n",
       "20         Midlands\n",
       "21         Midlands\n",
       "22         Midlands\n",
       "23       South East\n",
       "24       South East\n",
       "25         Midlands\n",
       "26         Midlands\n",
       "27         Midlands\n",
       "28            North\n",
       "29         Midlands\n",
       "            ...    \n",
       "22193         North\n",
       "22194    South East\n",
       "22195    South East\n",
       "22196      Midlands\n",
       "22197    South East\n",
       "22198      Midlands\n",
       "22199      Midlands\n",
       "22200    South East\n",
       "22201         North\n",
       "22202         North\n",
       "22203    South East\n",
       "22204    South West\n",
       "22205    South East\n",
       "22206    South East\n",
       "22207    South East\n",
       "22208    South East\n",
       "22209    South West\n",
       "22210    South East\n",
       "22211         North\n",
       "22212    South East\n",
       "22213      Midlands\n",
       "22214    South East\n",
       "22215    South East\n",
       "22216    South East\n",
       "22217         North\n",
       "22218    South East\n",
       "22219    South East\n",
       "22220         North\n",
       "22221         North\n",
       "22222    South West\n",
       "Name: REGION, Length: 22223, dtype: object"
      ]
     },
     "execution_count": 24,
     "metadata": {},
     "output_type": "execute_result"
    }
   ],
   "source": [
    "df['REGION']"
   ]
  },
  {
   "cell_type": "code",
   "execution_count": 3,
   "metadata": {},
   "outputs": [
    {
     "name": "stdout",
     "output_type": "stream",
     "text": [
      "False    21549\n",
      "True       674\n",
      "Name: NEIGHBORHOOD, dtype: int64\n"
     ]
    }
   ],
   "source": [
    "print(pd.isna(df['NEIGHBORHOOD']).value_counts())"
   ]
  },
  {
   "cell_type": "code",
   "execution_count": 2,
   "metadata": {},
   "outputs": [
    {
     "ename": "KeyError",
     "evalue": "9",
     "output_type": "error",
     "traceback": [
      "\u001b[1;31m---------------------------------------------------------------------------\u001b[0m",
      "\u001b[1;31mKeyError\u001b[0m                                  Traceback (most recent call last)",
      "\u001b[1;32m<ipython-input-2-1cdc40004340>\u001b[0m in \u001b[0;36m<module>\u001b[1;34m()\u001b[0m\n\u001b[0;32m      3\u001b[0m         \u001b[0mdf\u001b[0m\u001b[1;33m.\u001b[0m\u001b[0mdrop\u001b[0m\u001b[1;33m(\u001b[0m\u001b[0mi\u001b[0m\u001b[1;33m,\u001b[0m \u001b[0minplace\u001b[0m\u001b[1;33m=\u001b[0m\u001b[1;32mTrue\u001b[0m\u001b[1;33m)\u001b[0m\u001b[1;33m\u001b[0m\u001b[0m\n\u001b[0;32m      4\u001b[0m \u001b[1;32mfor\u001b[0m \u001b[0mj\u001b[0m \u001b[1;32min\u001b[0m \u001b[0mrange\u001b[0m\u001b[1;33m(\u001b[0m\u001b[0mlen\u001b[0m\u001b[1;33m(\u001b[0m\u001b[0mdf\u001b[0m\u001b[1;33m)\u001b[0m\u001b[1;33m)\u001b[0m\u001b[1;33m:\u001b[0m\u001b[1;33m\u001b[0m\u001b[0m\n\u001b[1;32m----> 5\u001b[1;33m     \u001b[1;32mif\u001b[0m \u001b[0mpd\u001b[0m\u001b[1;33m.\u001b[0m\u001b[0misna\u001b[0m\u001b[1;33m(\u001b[0m\u001b[0mdf\u001b[0m\u001b[1;33m[\u001b[0m\u001b[1;34m'NEIGHBORHOOD'\u001b[0m\u001b[1;33m]\u001b[0m\u001b[1;33m[\u001b[0m\u001b[0mj\u001b[0m\u001b[1;33m]\u001b[0m\u001b[1;33m)\u001b[0m\u001b[1;33m:\u001b[0m\u001b[1;33m\u001b[0m\u001b[0m\n\u001b[0m\u001b[0;32m      6\u001b[0m         \u001b[0mdf\u001b[0m\u001b[1;33m.\u001b[0m\u001b[0mdrop\u001b[0m\u001b[1;33m(\u001b[0m\u001b[0mj\u001b[0m\u001b[1;33m,\u001b[0m \u001b[0minplace\u001b[0m\u001b[1;33m=\u001b[0m\u001b[1;32mTrue\u001b[0m\u001b[1;33m)\u001b[0m\u001b[1;33m\u001b[0m\u001b[0m\n\u001b[0;32m      7\u001b[0m \u001b[0mlen\u001b[0m\u001b[1;33m(\u001b[0m\u001b[0mdf\u001b[0m\u001b[1;33m)\u001b[0m\u001b[1;33m\u001b[0m\u001b[0m\n",
      "\u001b[1;32mC:\\Miniconda3\\lib\\site-packages\\pandas\\core\\series.py\u001b[0m in \u001b[0;36m__getitem__\u001b[1;34m(self, key)\u001b[0m\n\u001b[0;32m    621\u001b[0m         \u001b[0mkey\u001b[0m \u001b[1;33m=\u001b[0m \u001b[0mcom\u001b[0m\u001b[1;33m.\u001b[0m\u001b[0m_apply_if_callable\u001b[0m\u001b[1;33m(\u001b[0m\u001b[0mkey\u001b[0m\u001b[1;33m,\u001b[0m \u001b[0mself\u001b[0m\u001b[1;33m)\u001b[0m\u001b[1;33m\u001b[0m\u001b[0m\n\u001b[0;32m    622\u001b[0m         \u001b[1;32mtry\u001b[0m\u001b[1;33m:\u001b[0m\u001b[1;33m\u001b[0m\u001b[0m\n\u001b[1;32m--> 623\u001b[1;33m             \u001b[0mresult\u001b[0m \u001b[1;33m=\u001b[0m \u001b[0mself\u001b[0m\u001b[1;33m.\u001b[0m\u001b[0mindex\u001b[0m\u001b[1;33m.\u001b[0m\u001b[0mget_value\u001b[0m\u001b[1;33m(\u001b[0m\u001b[0mself\u001b[0m\u001b[1;33m,\u001b[0m \u001b[0mkey\u001b[0m\u001b[1;33m)\u001b[0m\u001b[1;33m\u001b[0m\u001b[0m\n\u001b[0m\u001b[0;32m    624\u001b[0m \u001b[1;33m\u001b[0m\u001b[0m\n\u001b[0;32m    625\u001b[0m             \u001b[1;32mif\u001b[0m \u001b[1;32mnot\u001b[0m \u001b[0mis_scalar\u001b[0m\u001b[1;33m(\u001b[0m\u001b[0mresult\u001b[0m\u001b[1;33m)\u001b[0m\u001b[1;33m:\u001b[0m\u001b[1;33m\u001b[0m\u001b[0m\n",
      "\u001b[1;32mC:\\Miniconda3\\lib\\site-packages\\pandas\\core\\indexes\\base.py\u001b[0m in \u001b[0;36mget_value\u001b[1;34m(self, series, key)\u001b[0m\n\u001b[0;32m   2558\u001b[0m         \u001b[1;32mtry\u001b[0m\u001b[1;33m:\u001b[0m\u001b[1;33m\u001b[0m\u001b[0m\n\u001b[0;32m   2559\u001b[0m             return self._engine.get_value(s, k,\n\u001b[1;32m-> 2560\u001b[1;33m                                           tz=getattr(series.dtype, 'tz', None))\n\u001b[0m\u001b[0;32m   2561\u001b[0m         \u001b[1;32mexcept\u001b[0m \u001b[0mKeyError\u001b[0m \u001b[1;32mas\u001b[0m \u001b[0me1\u001b[0m\u001b[1;33m:\u001b[0m\u001b[1;33m\u001b[0m\u001b[0m\n\u001b[0;32m   2562\u001b[0m             \u001b[1;32mif\u001b[0m \u001b[0mlen\u001b[0m\u001b[1;33m(\u001b[0m\u001b[0mself\u001b[0m\u001b[1;33m)\u001b[0m \u001b[1;33m>\u001b[0m \u001b[1;36m0\u001b[0m \u001b[1;32mand\u001b[0m \u001b[0mself\u001b[0m\u001b[1;33m.\u001b[0m\u001b[0minferred_type\u001b[0m \u001b[1;32min\u001b[0m \u001b[1;33m[\u001b[0m\u001b[1;34m'integer'\u001b[0m\u001b[1;33m,\u001b[0m \u001b[1;34m'boolean'\u001b[0m\u001b[1;33m]\u001b[0m\u001b[1;33m:\u001b[0m\u001b[1;33m\u001b[0m\u001b[0m\n",
      "\u001b[1;32mpandas/_libs/index.pyx\u001b[0m in \u001b[0;36mpandas._libs.index.IndexEngine.get_value\u001b[1;34m()\u001b[0m\n",
      "\u001b[1;32mpandas/_libs/index.pyx\u001b[0m in \u001b[0;36mpandas._libs.index.IndexEngine.get_value\u001b[1;34m()\u001b[0m\n",
      "\u001b[1;32mpandas/_libs/index.pyx\u001b[0m in \u001b[0;36mpandas._libs.index.IndexEngine.get_loc\u001b[1;34m()\u001b[0m\n",
      "\u001b[1;32mpandas/_libs/hashtable_class_helper.pxi\u001b[0m in \u001b[0;36mpandas._libs.hashtable.Int64HashTable.get_item\u001b[1;34m()\u001b[0m\n",
      "\u001b[1;32mpandas/_libs/hashtable_class_helper.pxi\u001b[0m in \u001b[0;36mpandas._libs.hashtable.Int64HashTable.get_item\u001b[1;34m()\u001b[0m\n",
      "\u001b[1;31mKeyError\u001b[0m: 9"
     ]
    }
   ],
   "source": [
    "for i in range(len(df)):\n",
    "    if pd.isna(df['REGION'][i]):\n",
    "        df.drop(i, inplace=True)\n",
    "for j in range(len(df)):\n",
    "    if pd.isna(df['NEIGHBORHOOD'][j]):\n",
    "        df.drop(j, inplace=True)\n",
    "len(df)"
   ]
  },
  {
   "cell_type": "code",
   "execution_count": 6,
   "metadata": {},
   "outputs": [],
   "source": [
    "import numpy as np\n",
    "import pandas as pd\n",
    "df = pd.read_csv('dataset/organics.csv')\n",
    "\n",
    "def data_prep():\n",
    "    \n",
    "    #Replace missing data as 'U' in 'GENDER' \n",
    "    df['GENDER'].fillna('U')\n",
    "    \n",
    "    #Drop TV_REG coloumn\n",
    "    df.drop(['TV_REG','LCDATE'], axis=1, inplace=True)\n",
    "    \n",
    "    #Drop rows that miss value in 'REGION'\n",
    "    for i in range(len(df)):\n",
    "    if pd.isna(df['REGION'][i]):\n",
    "        df.drop(i, inplace=True)\n"
   ]
  },
  {
   "cell_type": "markdown",
   "metadata": {},
   "source": [
    "# 4. What variables did you include in the analysis and what were their roles and measurement level set? Justify your choice."
   ]
  },
  {
   "cell_type": "code",
   "execution_count": null,
   "metadata": {},
   "outputs": [],
   "source": [
    "- GENDER\n",
    "- DOB\n",
    "- AGE\n",
    "- LTIME\n",
    "- ORGANICS\n",
    "- BILL\n",
    "- CLASS\n",
    "- ORGYN\n",
    "- AFFL"
   ]
  },
  {
   "cell_type": "markdown",
   "metadata": {},
   "source": [
    "# 5. What distribution scheme did you use? What data partitioning allocation did you set? Explain your selection."
   ]
  },
  {
   "cell_type": "code",
   "execution_count": null,
   "metadata": {},
   "outputs": [],
   "source": []
  }
 ],
 "metadata": {
  "kernelspec": {
   "display_name": "Python 3",
   "language": "python",
   "name": "python3"
  },
  "language_info": {
   "codemirror_mode": {
    "name": "ipython",
    "version": 3
   },
   "file_extension": ".py",
   "mimetype": "text/x-python",
   "name": "python",
   "nbconvert_exporter": "python",
   "pygments_lexer": "ipython3",
   "version": "3.6.4"
  }
 },
 "nbformat": 4,
 "nbformat_minor": 2
}
